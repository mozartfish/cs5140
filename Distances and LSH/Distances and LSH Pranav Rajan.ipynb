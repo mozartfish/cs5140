{
 "cells": [
  {
   "cell_type": "code",
   "execution_count": 13,
   "metadata": {},
   "outputs": [],
   "source": [
    "# import some stuff\n",
    "import numpy as np\n",
    "import math\n",
    "import random\n",
    "import matplotlib.pyplot as plt\n",
    "import pandas as pd\n",
    "from sympy import*\n"
   ]
  },
  {
   "cell_type": "code",
   "execution_count": 8,
   "metadata": {},
   "outputs": [],
   "source": [
    "# read in the csv file\n",
    "data = pd.read_csv('R.csv')"
   ]
  },
  {
   "cell_type": "code",
   "execution_count": 17,
   "metadata": {},
   "outputs": [
    {
     "name": "stdout",
     "output_type": "stream",
     "text": [
      "The probability for AB having a collision is: 0.0015132805203282862\n",
      "The probability for AC having a collision is: 0.0\n",
      "The probability for AD having a collision is: 6.106226635438361e-15\n",
      "The probability for BC having a collision is: 0.0\n",
      "The probability for BD having a collision is: 4.469031067433349e-08\n",
      "The probability for CD having a collision is: 0.24132368169089802\n"
     ]
    }
   ],
   "source": [
    "# Question 1\n",
    "\n",
    "# # number of hash functions t\n",
    "# t = 160\n",
    "\n",
    "# b - the length of a band\n",
    "b = 31\n",
    "# the number of super Hash functions with band length b\n",
    "r = 5\n",
    "\n",
    "# calculate the probabilities using the function f(s) = 1 - (1 - s^b)^r\n",
    "AB = 1 - ((1 - (0.77 ** b)) ** r)\n",
    "AC = 1 - ((1 - (0.25 ** b)) ** r)\n",
    "AD = 1 - ((1 - (0.33 ** b)) ** r)\n",
    "BC = 1 - ((1 - (0.20 ** b)) ** r)\n",
    "BD = 1 - ((1 - (0.55 ** b)) ** r)\n",
    "CD = 1 - ((1 - (0.91 ** b)) ** r)\n",
    "\n",
    "# generate the results\n",
    "print(f\"The probability for AB having a collision is: {AB}\")\n",
    "print(f\"The probability for AC having a collision is: {AC}\")\n",
    "print(f\"The probability for AD having a collision is: {AD}\")\n",
    "print(f\"The probability for BC having a collision is: {BC}\")\n",
    "print(f\"The probability for BD having a collision is: {BD}\")\n",
    "print(f\"The probability for CD having a collision is: {CD}\")\n"
   ]
  },
  {
   "cell_type": "code",
   "execution_count": 52,
   "metadata": {},
   "outputs": [],
   "source": [
    "# Question 2\n",
    "# Part A\n",
    "# Using a gaussian distribution you can make a function that gets called\n",
    "# 10 times. Then to compute the unit vector, compute the magnitude of the vector\n",
    "# and divide each of the vector's components by the magnitude to get a random\n",
    "# unit vector"
   ]
  },
  {
   "cell_type": "code",
   "execution_count": 81,
   "metadata": {},
   "outputs": [],
   "source": [
    "# function that constructs random unit vectors in d dimension\n",
    "def generate_random_unit_vector(dimension):\n",
    "    vector = [random.gauss(0, 1) for i in range(dimension)]\n",
    "#     print(\"original vector\")\n",
    "#     print(vector)\n",
    "#     print()\n",
    "    magnitude = sqrt(sum(i**2 for i in vector))\n",
    "#     print(\"vector magnitude\")\n",
    "#     print(magnitude)\n",
    "#     print()\n",
    "    unit_vector = [component / magnitude for component in vector]\n",
    "#     print(\"unit vector\")\n",
    "#     print(unit_vector)\n",
    "    return unit_vector\n",
    "\n",
    "# foo = generate_random_unit_vector(100)\n",
    "# print(foo)"
   ]
  },
  {
   "cell_type": "code",
   "execution_count": 89,
   "metadata": {},
   "outputs": [
    {
     "name": "stdout",
     "output_type": "stream",
     "text": [
      "[[ 1.          0.0237116  -0.06086581 ...  0.08909174  0.09465256\n",
      "   0.04168841]\n",
      " [ 0.0237116   1.         -0.00592599 ...  0.03515618  0.15024905\n",
      "   0.15686581]\n",
      " [-0.06086581 -0.00592599  1.         ...  0.0594157   0.0721189\n",
      "  -0.0891681 ]\n",
      " ...\n",
      " [ 0.08909174  0.03515618  0.0594157  ...  1.          0.05339819\n",
      "  -0.15596459]\n",
      " [ 0.09465256  0.15024905  0.0721189  ...  0.05339819  1.\n",
      "  -0.17824096]\n",
      " [ 0.04168841  0.15686581 -0.0891681  ... -0.15596459 -0.17824096\n",
      "   1.        ]]\n"
     ]
    }
   ],
   "source": [
    "# generate some random unit vectors\n",
    "\n",
    "# number of unit vectors to generate\n",
    "p = 160\n",
    "\n",
    "# list to store all the unit vectors\n",
    "unit_vector_list = []\n",
    "\n",
    "# create a matrix of dimension 160 x 160 to store all the values\n",
    "# for indexing\n",
    "unit_vector_map = np.zeros((p, p))\n",
    "# print(unit_vector_map)\n",
    "\n",
    "for d in range(p):\n",
    "    unit_vector = np.array(generate_random_unit_vector(100))\n",
    "    unit_vector_list.append(unit_vector)\n",
    "#     print(unit_vector)\n",
    "#     break\n",
    "# print(unit_vector_list)\n",
    "\n",
    "# do computations\n",
    "for h in range(p):\n",
    "    for w in range(p):\n",
    "        dot_product = unit_vector_list[h].dot(unit_vector_list[w])\n",
    "        unit_vector_map[h][w] = dot_product\n",
    "print(unit_vector_map)\n",
    "    \n",
    "        \n",
    "    "
   ]
  }
 ],
 "metadata": {
  "kernelspec": {
   "display_name": "Python 3",
   "language": "python",
   "name": "python3"
  },
  "language_info": {
   "codemirror_mode": {
    "name": "ipython",
    "version": 3
   },
   "file_extension": ".py",
   "mimetype": "text/x-python",
   "name": "python",
   "nbconvert_exporter": "python",
   "pygments_lexer": "ipython3",
   "version": "3.7.4"
  }
 },
 "nbformat": 4,
 "nbformat_minor": 2
}
