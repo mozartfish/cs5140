{
 "cells": [
  {
   "cell_type": "code",
   "execution_count": 1,
   "metadata": {},
   "outputs": [],
   "source": [
    "# import some stuff\n",
    "import numpy as np\n",
    "import math\n",
    "import random\n",
    "import matplotlib.pyplot as plt\n",
    "import pandas as pd\n",
    "from itertools import combinations\n"
   ]
  },
  {
   "cell_type": "code",
   "execution_count": 2,
   "metadata": {},
   "outputs": [
    {
     "name": "stdout",
     "output_type": "stream",
     "text": [
      "The probability for AB having a collision is: 0.14262712129925814\n",
      "The probability for AC having a collision is: 2.3283064365386963e-09\n",
      "The probability for AD having a collision is: 1.977985021328621e-07\n",
      "The probability for BC having a collision is: 6.553646514362299e-11\n",
      "The probability for BD having a collision is: 0.0007009160597826192\n",
      "The probability for CD having a collision is: 0.9178498654389164\n"
     ]
    }
   ],
   "source": [
    "# Question 1\n",
    "\n",
    "# # number of hash functions t\n",
    "# t = 160\n",
    "\n",
    "# b - the length of a band\n",
    "b = 16\n",
    "# the number of super Hash functions with band length b\n",
    "r = 10\n",
    "\n",
    "# calculate the probabilities using the function f(s) = 1 - (1 - s^b)^r\n",
    "AB = 1 - ((1 - (0.77 ** b)) ** r)\n",
    "AC = 1 - ((1 - (0.25 ** b)) ** r)\n",
    "AD = 1 - ((1 - (0.33 ** b)) ** r)\n",
    "BC = 1 - ((1 - (0.20 ** b)) ** r)\n",
    "BD = 1 - ((1 - (0.55 ** b)) ** r)\n",
    "CD = 1 - ((1 - (0.91 ** b)) ** r)\n",
    "\n",
    "# generate the results\n",
    "print(f\"The probability for AB having a collision is: {AB}\")\n",
    "print(f\"The probability for AC having a collision is: {AC}\")\n",
    "print(f\"The probability for AD having a collision is: {AD}\")\n",
    "print(f\"The probability for BC having a collision is: {BC}\")\n",
    "print(f\"The probability for BD having a collision is: {BD}\")\n",
    "print(f\"The probability for CD having a collision is: {CD}\")\n"
   ]
  },
  {
   "cell_type": "code",
   "execution_count": 3,
   "metadata": {},
   "outputs": [],
   "source": [
    "# function that builds a unit vector of d dimension\n",
    "def build_unit_vector(d):\n",
    "    # list that stores the components of the vectors\n",
    "    vector_components = []\n",
    "    for _ in range(d//2 + 1):\n",
    "        u1, u2 = np.random.uniform(size = 2)\n",
    "        sqrt_expression = -2 * np.log(u1)\n",
    "        odd_coordinate = (np.sqrt(sqrt_expression)) * np.cos(2 * np.pi * u2)\n",
    "        even_coordinate = (np.sqrt(sqrt_expression)) * np.sin(2 * np.pi * u2)\n",
    "        vector_components.append(odd_coordinate)\n",
    "        vector_components.append(even_coordinate)\n",
    "    vector = np.array(vector_components)\n",
    "    resultant_vector = vector[:d]\n",
    "    magnitude = np.sqrt(np.sum(np.power(resultant_vector, 2)))\n",
    "    resultant_vector /= magnitude\n",
    "    return resultant_vector"
   ]
  },
  {
   "cell_type": "code",
   "execution_count": 4,
   "metadata": {},
   "outputs": [],
   "source": [
    "# function that generates p random unit vectors of d dimension\n",
    "def generate_random_unit_vector(p, d):\n",
    "    # list for storing p vectors\n",
    "    vector_list = []\n",
    "    for _ in range(p):\n",
    "        unit_vector = build_unit_vector(d)\n",
    "        vector_list.append(unit_vector)\n",
    "    return vector_list           "
   ]
  },
  {
   "cell_type": "code",
   "execution_count": 5,
   "metadata": {},
   "outputs": [
    {
     "data": {
      "image/png": "[encoded data removed]",
      "text/plain": [
       "<Figure size 432x288 with 1 Axes>"
      ]
     },
     "metadata": {
      "needs_background": "light"
     },
     "output_type": "display_data"
    }
   ],
   "source": [
    "# Question 2\n",
    "# Part A\n",
    "single_unit_vector = generate_random_unit_vector(1, 10)\n",
    "\n",
    "# Part B\n",
    "unit_vectors_list = generate_random_unit_vector(160, 100)\n",
    "\n",
    "# generate combinations for 160 C 2 = 12720\n",
    "vector_combinations = list(combinations(range(160), 2))\n",
    "\n",
    "# list that stores all the dot products\n",
    "dot_product_list = []\n",
    "for g in range(len(vector_combinations)):\n",
    "    vectors = vector_combinations[g]\n",
    "#     print(\"vectors\")\n",
    "    vector_1_index = vectors[0]\n",
    "    vector_2_index = vectors[1]\n",
    "#     print(\" vector indexes\")\n",
    "    vector_1 = unit_vectors_list[vector_1_index]\n",
    "    vector_2 = unit_vectors_list[vector_2_index]\n",
    "    dot_product = vector_1.dot(vector_2)\n",
    "    dot_product_list.append(dot_product)\n",
    "    \n",
    "# print(len(vector_combinations))\n",
    "# print(len(dot_product_list))\n",
    "\n",
    "vals, bin_value = np.histogram(dot_product_list, bins = 12720)\n",
    "cdf = np.cumsum(vals)\n",
    "cdf = cdf / 12720\n",
    "\n",
    "\n",
    "plt.title(\"CDF Graph of pairwise dot products for randomly generated vectors of 100 dimensions\")\n",
    "plt.xlabel(\"dot product\")\n",
    "plt.ylabel(\"probability\")\n",
    "plt.plot(bin_value[:-1], cdf)\n",
    "plt.show()"
   ]
  },
  {
   "cell_type": "code",
   "execution_count": 6,
   "metadata": {},
   "outputs": [
    {
     "data": {
      "text/plain": [
       "(500, 100)"
      ]
     },
     "execution_count": 6,
     "metadata": {},
     "output_type": "execute_result"
    }
   ],
   "source": [
    "# Question 3\n",
    "vectors = np.loadtxt('R.csv', delimiter = ',')\n",
    "# print(vectors)\n",
    "\n",
    "# determine the shape of the vectors\n",
    "vectors.shape"
   ]
  },
  {
   "cell_type": "code",
   "execution_count": 7,
   "metadata": {},
   "outputs": [],
   "source": [
    "# function that generates large unit vectors and returns them in a list\n",
    "def generate_large_unit_vectors(vectors_list):\n",
    "    # list for storing unit vectors\n",
    "    unit_vector_list = []\n",
    "    for g in range(len(vectors_list)):\n",
    "        magnitude = np.linalg.norm(vectors_list[g])\n",
    "        vectors_list[g] /= magnitude\n",
    "        unit_vector_list.append(vectors_list[g])\n",
    "    return unit_vector_list"
   ]
  },
  {
   "cell_type": "code",
   "execution_count": 8,
   "metadata": {},
   "outputs": [],
   "source": [
    "# function that determines angular similarity between two vectors a and b\n",
    "def angular_similarity(a, b):\n",
    "    vector_angular_similarity = 1 - (1 / np.pi) * np.arccos(a.dot(b))\n",
    "    return vector_angular_similarity"
   ]
  },
  {
   "cell_type": "code",
   "execution_count": 9,
   "metadata": {},
   "outputs": [
    {
     "name": "stdout",
     "output_type": "stream",
     "text": [
      "The number of dot products whose angular similarity is greater than 0.85 is: 39283\n"
     ]
    },
    {
     "data": {
      "image/png": "[encoded data removed]",
      "text/plain": [
       "<Figure size 432x288 with 1 Axes>"
      ]
     },
     "metadata": {
      "needs_background": "light"
     },
     "output_type": "display_data"
    }
   ],
   "source": [
    "# Question 3A\n",
    "\n",
    "# combinations of vectors for angular similarity\n",
    "angular_combinations = list(combinations(range(500), 2))\n",
    "\n",
    "# generate unit vectors\n",
    "angular_unit_vectors_list = generate_large_unit_vectors(vectors)\n",
    "\n",
    "# list that stores the result of angular similarity\n",
    "angular_similarity_list = []\n",
    "for h in range(len(angular_combinations)):\n",
    "    angular_vectors = angular_combinations[h]\n",
    "#     print(\"vectors\")\n",
    "    vector_a_index = angular_vectors[0]\n",
    "    vector_b_index = angular_vectors[1]\n",
    "#     print(\" vector indexes\")\n",
    "    vector_a = angular_unit_vectors_list[vector_a_index]\n",
    "    vector_b = angular_unit_vectors_list[vector_b_index]\n",
    "    \n",
    "    vector_angular_similarity = angular_similarity(vector_a, vector_b)\n",
    "    angular_similarity_list.append(vector_angular_similarity)\n",
    "    \n",
    "# Report the number of dot products with similarity greater than 0.85\n",
    "angular_similarity_counter = 0\n",
    "for y in range(len(angular_similarity_list)):\n",
    "    if angular_similarity_list[y] > 0.85:\n",
    "        angular_similarity_counter += 1\n",
    "print(f\"The number of dot products whose angular similarity is greater than 0.85 is: {angular_similarity_counter}\")\n",
    "    \n",
    "\n",
    "# Plot information for angular similarity\n",
    "angular_vals, angular_bin_value = np.histogram(angular_similarity_list, bins = len(angular_similarity_list))\n",
    "cdf = np.cumsum(angular_vals)\n",
    "cdf = cdf / len(angular_similarity_list)\n",
    "\n",
    "\n",
    "\n",
    "plt.title(\"CDF Graph of pairwise angular similarity for 500 vectors of 100 dimension\")\n",
    "plt.xlabel(\"angular similarity\")\n",
    "plt.ylabel(\"probability of documents being similar\")\n",
    "plt.plot(angular_bin_value[:-1], cdf)\n",
    "plt.show()\n"
   ]
  },
  {
   "cell_type": "code",
   "execution_count": 10,
   "metadata": {},
   "outputs": [
    {
     "name": "stdout",
     "output_type": "stream",
     "text": [
      "The number of dot products with angular similarity greater than 0.85 is: 0\n"
     ]
    },
    {
     "data": {
      "image/png": "[encoded data removed]",
      "text/plain": [
       "<Figure size 432x288 with 1 Axes>"
      ]
     },
     "metadata": {
      "needs_background": "light"
     },
     "output_type": "display_data"
    }
   ],
   "source": [
    "# Question 3B\n",
    "\n",
    "# generate random 160 random unit vectors for angular similarity\n",
    "angular_random_unit_vectors_list = generate_random_unit_vector(160, 100)\n",
    "\n",
    "# combinations for angular similarity\n",
    "angular_vector_combinations = list(combinations(range(160), 2))\n",
    "\n",
    "# list that stores the angular similarity \n",
    "random_angular_list = []\n",
    "for t in range(len(angular_vector_combinations)):\n",
    "    angular_random_vectors = angular_vector_combinations[t]\n",
    "    angular_random_vector_a_index = angular_random_vectors[0]\n",
    "    angular_random_vector_b_index = angular_random_vectors[1]\n",
    "    angular_random_vector_a = angular_random_unit_vectors_list[angular_random_vector_a_index]\n",
    "    angular_random_vector_b = angular_random_unit_vectors_list[angular_random_vector_b_index]\n",
    "    random_vector_angular_similarity = angular_similarity(angular_random_vector_a, angular_random_vector_b)\n",
    "    random_angular_list.append(random_vector_angular_similarity)\n",
    "    \n",
    "\n",
    "# print(random_angular_list)\n",
    "# Report the number of elements with similarity greater than 0.85\n",
    "random_angular_similarity_counter = 0\n",
    "for j in range(len(random_angular_list)):\n",
    "    if random_angular_list[j] > 0.85:\n",
    "        random_angular_similarity_counter += 1\n",
    "print(f\"The number of dot products with angular similarity greater than 0.85 is: {random_angular_similarity_counter}\")\n",
    "\n",
    "#Plot information for angular similarity\n",
    "random_angular_vals, random_angular_bin_value = np.histogram(random_angular_list, bins = len(random_angular_list))\n",
    "cdf = np.cumsum(random_angular_vals)\n",
    "cdf = cdf / len(random_angular_list)\n",
    "\n",
    "plt.title(\"CDF Graph of pairwise angular similarity for random vectors of high dimensions\")\n",
    "plt.xlabel(\"angular similarity\")\n",
    "plt.ylabel(\"probability of documents being similar\")\n",
    "plt.plot(random_angular_bin_value[:-1], cdf)\n",
    "plt.show()\n",
    "\n"
   ]
  }
 ],
 "metadata": {
  "kernelspec": {
   "display_name": "Python 3",
   "language": "python",
   "name": "python3"
  },
  "language_info": {
   "codemirror_mode": {
    "name": "ipython",
    "version": 3
   },
   "file_extension": ".py",
   "mimetype": "text/x-python",
   "name": "python",
   "nbconvert_exporter": "python",
   "pygments_lexer": "ipython3",
   "version": "3.7.6"
  }
 },
 "nbformat": 4,
 "nbformat_minor": 2
}
