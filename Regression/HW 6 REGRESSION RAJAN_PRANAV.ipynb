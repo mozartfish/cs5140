{
 "cells": [
  {
   "cell_type": "code",
   "execution_count": 1,
   "metadata": {},
   "outputs": [],
   "source": [
    "# import some stuff\n",
    "import numpy as np \n",
    "from matplotlib import pyplot as plt\n",
    "import pandas"
   ]
  },
  {
   "cell_type": "code",
   "execution_count": 2,
   "metadata": {},
   "outputs": [
    {
     "name": "stdout",
     "output_type": "stream",
     "text": [
      "The shape of X is: (100, 50)\n",
      "The shape of Y is: (100,)\n",
      "The shape of M is: (50, 20)\n",
      "The shape of W is: (50,)\n"
     ]
    }
   ],
   "source": [
    "# read in the data \n",
    "X = np.loadtxt('X.csv', delimiter=',')\n",
    "y = np.loadtxt('y.csv', delimiter=',')\n",
    "M = np.loadtxt('M.csv', delimiter=',')\n",
    "W = np.loadtxt('W.csv', delimiter=',')\n",
    "\n",
    "# Shape of the data\n",
    "x_shape = X.shape\n",
    "y_shape = y.shape\n",
    "m_shape = M.shape\n",
    "w_shape = W.shape\n",
    "\n",
    "print(f\"The shape of X is: {x_shape}\")\n",
    "print(f\"The shape of Y is: {y_shape}\")\n",
    "print(f\"The shape of M is: {m_shape}\")\n",
    "print(f\"The shape of W is: {w_shape}\")\n",
    "\n",
    "#Test to see if some stuff is read correctly\n",
    "# print(X)\n",
    "# print(y)\n",
    "# print(M)\n",
    "# print(W)"
   ]
  },
  {
   "cell_type": "code",
   "execution_count": 3,
   "metadata": {},
   "outputs": [],
   "source": [
    "# get the alpha values for linear and ridge regression\n",
    "\n",
    "# LEAST SQUARES\n",
    "# least_squares_alpha = np.linalg.inv(X.T.dot(X)).dot(X.T.dot(y))\n",
    "least_squares_alpha = np.linalg.inv(X.T @ X) @ X.T @ y.T\n",
    "\n",
    "# RIDGE REGRESSION\n",
    "# function that returns alpha values for a particular value for ridge regression\n",
    "def ridge_alpha(s):\n",
    "    alpha = np.linalg.inv(X.T @ X + s * np.identity(50)) @ X.T @ y.T\n",
    "#     print(type(alpha))\n",
    "#     print(list(alpha))\n",
    "    return alpha\n",
    "\n",
    "# print(least_squares_alpha)"
   ]
  },
  {
   "cell_type": "code",
   "execution_count": 4,
   "metadata": {},
   "outputs": [
    {
     "name": "stdout",
     "output_type": "stream",
     "text": [
      "The sum of square error for least squares is: 3.4727000180303693\n",
      "\n",
      "The error for ridge regression s value: 0.2 is : 3.8730952721774807\n",
      "The error for ridge regression s value: 0.4 is : 4.033682435987204\n",
      "The error for ridge regression s value: 0.8 is : 4.3048123710580875\n",
      "The error for ridge regression s value: 1.0 is : 4.424875280272593\n",
      "The error for ridge regression s value: 1.2 is : 4.536675515386759\n",
      "The error for ridge regression s value: 1.4 is : 4.64122029603989\n",
      "The error for ridge regression s value: 1.6 is : 4.739335579394492\n"
     ]
    }
   ],
   "source": [
    "# QUESTION 1 PART A\n",
    "\n",
    "# Get the shape information about the X matrix and the least squares alpha \n",
    "# print(f\"The dimensions of X: {X.shape}\")\n",
    "# print(f\"The dimensions of the least squares regression alpha values: {least_squares_alpha.shape}\")\n",
    "\n",
    "# Least squares regression SSE \n",
    "ls_error = np.linalg.norm(y - X.dot(least_squares_alpha), 2)\n",
    "print(f\"The sum of square error for least squares is: {ls_error}\")\n",
    "print()\n",
    "\n",
    "# ridge regression\n",
    "s_values = [0.2, 0.4, 0.8, 1.0, 1.2, 1.4, 1.6]\n",
    "\n",
    "for j in s_values:\n",
    "    # test for the correct s value\n",
    "#     print(f\"The value of s is: {j}\")\n",
    "\n",
    "    # alpha value for a particular s value\n",
    "    alpha = ridge_alpha(j)\n",
    "    \n",
    "    ridge_error = np.linalg.norm(y - X.dot(alpha), 2)\n",
    "    \n",
    "    print(f\"The error for ridge regression s value: {j} is : {ridge_error}\")"
   ]
  },
  {
   "cell_type": "code",
   "execution_count": 17,
   "metadata": {},
   "outputs": [
    {
     "name": "stdout",
     "output_type": "stream",
     "text": [
      "The dimensions for X1 are: (66, 50)\n",
      "The dimensions for Y1 are: (66,)\n",
      "\n",
      "The dimensions for X2 are: (67, 50)\n",
      "The dimensions for Y2 are: (67,)\n",
      "\n",
      "The dimensions for X3 are (66, 50)\n",
      "The dimensions for Y3 are (2, 33)\n"
     ]
    }
   ],
   "source": [
    "# QUESTION 1 PART B \n",
    "\n",
    "# SLICE THE DATA according to the homework instructions\n",
    "X1 = X[:66, :]\n",
    "Y1 = y[:66]\n",
    "\n",
    "x1_shape = X1.shape\n",
    "y1_shape = Y1.shape\n",
    "\n",
    "print(f\"The dimensions for X1 are: {x1_shape}\")\n",
    "print(f\"The dimensions for Y1 are: {y1_shape}\")\n",
    "print()\n",
    "\n",
    "X2 = X[33:, :]\n",
    "Y2 = y[33:]\n",
    "\n",
    "x2_shape = X2.shape\n",
    "y2_shape = Y2.shape\n",
    "\n",
    "print(f\"The dimensions for X2 are: {x2_shape}\")\n",
    "print(f\"The dimensions for Y2 are: {y2_shape}\")\n",
    "print()\n",
    "\n",
    "X3 = np.vstack((X[:33,:], X[67:,:]))\n",
    "Y3 = np.vstack((y[:33], y[67:]))\n",
    "\n",
    "x3_shape = X3.shape\n",
    "y3_shape = Y3.shape\n",
    "print(f\"The dimensions for X3 are {x3_shape}\")\n",
    "print(f\"The dimensions for Y3 are {y3_shape}\")\n",
    "\n",
    "# print(len)\n"
   ]
  }
 ],
 "metadata": {
  "kernelspec": {
   "display_name": "Python 3",
   "language": "python",
   "name": "python3"
  },
  "language_info": {
   "codemirror_mode": {
    "name": "ipython",
    "version": 3
   },
   "file_extension": ".py",
   "mimetype": "text/x-python",
   "name": "python",
   "nbconvert_exporter": "python",
   "pygments_lexer": "ipython3",
   "version": "3.7.6"
  }
 },
 "nbformat": 4,
 "nbformat_minor": 4
}
