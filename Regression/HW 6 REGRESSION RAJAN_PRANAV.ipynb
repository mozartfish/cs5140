{
 "cells": [
  {
   "cell_type": "code",
   "execution_count": 2,
   "metadata": {},
   "outputs": [],
   "source": [
    "# import some stuff\n",
    "import numpy as np \n",
    "from matplotlib import pyplot as plt\n",
    "import pandas"
   ]
  },
  {
   "cell_type": "code",
   "execution_count": 9,
   "metadata": {},
   "outputs": [],
   "source": [
    "# read in the data \n",
    "X = np.loadtxt('X.csv', delimiter=',')\n",
    "y = np.loadtxt('y.csv', delimiter=',')\n",
    "M = np.loadtxt('M.csv', delimiter=',')\n",
    "W = np.loadtxt('W.csv', delimiter=',')\n",
    "\n",
    "#Test to see if some stuff is read correctly\n",
    "# print(X)\n",
    "# print(y)\n",
    "# print(M)\n",
    "# print(W)"
   ]
  },
  {
   "cell_type": "code",
   "execution_count": 19,
   "metadata": {},
   "outputs": [],
   "source": [
    "# get the alpha values for linear and ridge regression\n",
    "least_squares_alpha = np.linalg.inv(X.T.dot(X)).dot(X.T.dot(y))\n",
    "\n",
    "# function that returns alpha values for a particular value for ridge regression\n",
    "def ridge_regression(s):\n",
    "    alpha = np.linalg.inv(X.T.dot(X) + s * np.identity(50)).dot(X.T.dot(y.T))\n",
    "    return alpha\n",
    "\n",
    "# print(least_squares_alpha)"
   ]
  }
 ],
 "metadata": {
  "kernelspec": {
   "display_name": "Python 3",
   "language": "python",
   "name": "python3"
  },
  "language_info": {
   "codemirror_mode": {
    "name": "ipython",
    "version": 3
   },
   "file_extension": ".py",
   "mimetype": "text/x-python",
   "name": "python",
   "nbconvert_exporter": "python",
   "pygments_lexer": "ipython3",
   "version": "3.7.6"
  }
 },
 "nbformat": 4,
 "nbformat_minor": 4
}
