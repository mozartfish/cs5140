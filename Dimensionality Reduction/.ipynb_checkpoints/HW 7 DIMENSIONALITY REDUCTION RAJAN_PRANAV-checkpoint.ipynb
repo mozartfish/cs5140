{
 "cells": [
  {
   "cell_type": "code",
   "execution_count": 1,
   "metadata": {},
   "outputs": [],
   "source": [
    "# import some stuff\n",
    "import numpy as np\n",
    "from scipy import linalg as LA\n",
    "from sklearn.decomposition import PCA\n",
    "from matplotlib import pyplot as plt\n",
    "import altair as alt\n",
    "import math "
   ]
  },
  {
   "cell_type": "code",
   "execution_count": 2,
   "metadata": {},
   "outputs": [
    {
     "name": "stdout",
     "output_type": "stream",
     "text": [
      "The dimensions of A are: (4000, 20)\n"
     ]
    }
   ],
   "source": [
    "# load data\n",
    "A = np.loadtxt('A.csv', delimiter=',')\n",
    "\n",
    "# output the data\n",
    "# print(A)\n",
    "\n",
    "# dimensions of the data\n",
    "A_shape = A.shape\n",
    "print(f\"The dimensions of A are: {A_shape}\")"
   ]
  },
  {
   "cell_type": "code",
   "execution_count": 3,
   "metadata": {},
   "outputs": [
    {
     "name": "stdout",
     "output_type": "stream",
     "text": [
      "(20,)\n",
      "4000\n"
     ]
    }
   ],
   "source": [
    "foo = A[0]\n",
    "print(foo.shape)\n",
    "print(A.shape[0])"
   ]
  },
  {
   "cell_type": "code",
   "execution_count": 4,
   "metadata": {},
   "outputs": [],
   "source": [
    "# compute the svd of A\n",
    "U, s, Vt = LA.svd(A, full_matrices=False)\n",
    "U_shape = U.shape\n",
    "s_shape = s.shape\n",
    "Vt_shape = Vt.shape\n",
    "\n",
    "# # output the different components along with their dimensions\n",
    "# print(f\"The U Matrix\")\n",
    "# print(f\"The dimensions of U are {U_shape}\")\n",
    "# print(U)\n",
    "# print()\n",
    "\n",
    "# print(f\"The s matrix (contains all the eigenvalues)\")\n",
    "# print(f\"The dimensions of s are {s_shape}\")\n",
    "# print(s)\n",
    "# print()\n",
    "\n",
    "# print(f\"The V transpose matrix\")\n",
    "# print(f\"The dimensions of V transpose are {Vt_shape}\")\n",
    "# print(Vt)\n",
    "# print()\n"
   ]
  },
  {
   "cell_type": "code",
   "execution_count": 5,
   "metadata": {},
   "outputs": [
    {
     "name": "stdout",
     "output_type": "stream",
     "text": [
      "The norm of the difference between A and Ak when k is 1: 106.8040011674568\n",
      "The norm of the difference between A and Ak when k is 2: 98.93131911624849\n",
      "The norm of the difference between A and Ak when k is 3: 93.82335917328975\n",
      "The norm of the difference between A and Ak when k is 4: 75.57170361248676\n",
      "The norm of the difference between A and Ak when k is 5: 62.986805432603646\n",
      "The norm of the difference between A and Ak when k is 6: 61.56671899951177\n",
      "The norm of the difference between A and Ak when k is 7: 27.679876181132332\n",
      "The norm of the difference between A and Ak when k is 8: 26.445160689201842\n",
      "The norm of the difference between A and Ak when k is 9: 26.26866531890767\n",
      "The norm of the difference between A and Ak when k is 10: 24.602748529508965\n"
     ]
    }
   ],
   "source": [
    "# PART 1A\n",
    "for k in range(1, 11):\n",
    "#     print(k)\n",
    "    \n",
    "    # get the slice of the svd components up to k\n",
    "    Uk = U[:, :k]\n",
    "    Sk = s[:k]\n",
    "    Vtk = Vt[:k, :]\n",
    "    \n",
    "    # reproduce Ak using the sliced SVD components\n",
    "    Ak = np.dot(Uk * Sk, Vtk)\n",
    "    \n",
    "    # calculate the 2 norm between A and Ak\n",
    "    norm_diff = LA.norm(A-Ak, 2)\n",
    "    print(f\"The norm of the difference between A and Ak when k is {k}: {norm_diff}\")\n",
    "    \n"
   ]
  },
  {
   "cell_type": "code",
   "execution_count": 6,
   "metadata": {},
   "outputs": [
    {
     "name": "stdout",
     "output_type": "stream",
     "text": [
      "The smallest value k so that the L2 norm of A-Ak is less than 10% that of A is: 19\n"
     ]
    }
   ],
   "source": [
    "# PART 1B\n",
    "for k in range(1, 20):\n",
    "    # get the slice of the svd components up to k\n",
    "    Uk = U[:, :k]\n",
    "    Sk = s[:k]\n",
    "    Vtk = Vt[:k, :]\n",
    "\n",
    "    # reproduce Ak using the sliced SVD components\n",
    "    Ak = np.dot(Uk * Sk, Vtk)\n",
    "    \n",
    "    # 10 % of A Norm\n",
    "    A_norm_10 = 0.1 * LA.norm(A, 2)\n",
    "    \n",
    "    # calculate the 2 norm between A and Ak\n",
    "    norm_diff = LA.norm(A-Ak, 2)\n",
    "        \n",
    "    if A_norm_10 - norm_diff > 0:\n",
    "        print(f\"The smallest value k so that the L2 norm of A-Ak is less than 10% that of A is: {k}\")"
   ]
  },
  {
   "cell_type": "code",
   "execution_count": 7,
   "metadata": {},
   "outputs": [
    {
     "data": {
      "image/png": "[encoded data removed]",
      "text/plain": [
       "<Figure size 432x288 with 1 Axes>"
      ]
     },
     "metadata": {
      "needs_background": "light"
     },
     "output_type": "display_data"
    }
   ],
   "source": [
    "# PART 1C\n",
    "pca = PCA(n_components=2)\n",
    "pca.fit(A)\n",
    "projected_data = pca.transform(A)\n",
    "plt.scatter(projected_data[:, 0], projected_data[:, 1])\n",
    "plt.xlabel('first pc')\n",
    "plt.ylabel('second_pc')\n",
    "plt.show()\n",
    "\n",
    "# print(projected_data.shape)\n",
    "# print(projected_data[:, 0])\n",
    "# print(projected_data[:, 1])"
   ]
  },
  {
   "cell_type": "code",
   "execution_count": 16,
   "metadata": {},
   "outputs": [],
   "source": [
    "def freq_dir(A, l):\n",
    "    r = A.shape[0]\n",
    "    c = A.shape[1]\n",
    "    B = np.zeros([l * 2, c])\n",
    "    B[:l-1, :] = A[:l - 1, :]\n",
    "    zerorows = l + 1\n",
    "    for i in range(l - 1, r):\n",
    "        '''\n",
    "        implement the algorithm 16.2.1 in L16 MatrixSketching in Data Mining course webpage\n",
    "          insert ith row into a zero-value row of the mat_b\n",
    "          if B has no zero-valued rows ( can be ketp track with counter) then:\n",
    "            U,S,V = svd(mat_b)  using  U,S,V = np.linalg.svd(mat_b,full_matrices = False)\n",
    "            ...\n",
    "            procedure same as the algorithm 16.2.1\n",
    "            ...\n",
    "        '''\n",
    "        # boolean for indicating whether a row has all zeros\n",
    "        all_zeros = False\n",
    "\n",
    "        for row in range(B.shape[0]):\n",
    "            if np.all(B[row] == 0):\n",
    "                all_zeros = True\n",
    "                for col in range(c):\n",
    "                    B[row][col] = A[i][col]\n",
    "                break\n",
    "                \n",
    "        if not all_zeros:\n",
    "            U, S, V = LA.svd(B, full_matrices=False)\n",
    "            if S[ 2 * l - 1] != 0:\n",
    "                delta = S[l - 1]**2\n",
    "                S_prime = [0 for j in range(2 * l)]\n",
    "                for p in range(l - 1):\n",
    "                    S_prime[p] = math.sqrt((S[p] ** 2) - delta)\n",
    "                B = np.diag(S_prime) @ V\n",
    "            else:\n",
    "                break\n",
    "\n",
    "    return B"
   ]
  },
  {
   "cell_type": "code",
   "execution_count": null,
   "metadata": {},
   "outputs": [],
   "source": []
  },
  {
   "cell_type": "code",
   "execution_count": 20,
   "metadata": {},
   "outputs": [
    {
     "name": "stdout",
     "output_type": "stream",
     "text": [
      "The value of the frobenius norm of A^2 / 10 is: 6462.897613721932\n",
      "\n",
      "The max error for an l value of 1 is: 24584.931709284392\n",
      "The max error for an l value of 2 is: 24550.724039364533\n",
      "The max error for an l value of 3 is: 24540.67084849353\n",
      "The max error for an l value of 4 is: 23180.53654184146\n",
      "The max error for an l value of 5 is: 20456.666332475143\n",
      "The max error for an l value of 6 is: 15886.381886176267\n",
      "The max error for an l value of 7 is: 12669.682567249292\n",
      "The max error for an l value of 8 is: 7213.338300457324\n",
      "The max error for an l value of 9 is: 5623.346010528244\n",
      "The max error for an l value of 10 is: 4941.421822450187\n"
     ]
    },
    {
     "ename": "IndexError",
     "evalue": "index 21 is out of bounds for axis 0 with size 20",
     "output_type": "error",
     "traceback": [
      "\u001b[1;31m---------------------------------------------------------------------------\u001b[0m",
      "\u001b[1;31mIndexError\u001b[0m                                Traceback (most recent call last)",
      "\u001b[1;32m<ipython-input-20-da721dda5817>\u001b[0m in \u001b[0;36m<module>\u001b[1;34m\u001b[0m\n\u001b[0;32m      5\u001b[0m \u001b[1;33m\u001b[0m\u001b[0m\n\u001b[0;32m      6\u001b[0m \u001b[1;32mfor\u001b[0m \u001b[0mj\u001b[0m \u001b[1;32min\u001b[0m \u001b[0ml_values\u001b[0m\u001b[1;33m:\u001b[0m\u001b[1;33m\u001b[0m\u001b[1;33m\u001b[0m\u001b[0m\n\u001b[1;32m----> 7\u001b[1;33m     \u001b[0mB\u001b[0m \u001b[1;33m=\u001b[0m \u001b[0mfreq_dir\u001b[0m\u001b[1;33m(\u001b[0m\u001b[0mA\u001b[0m\u001b[1;33m,\u001b[0m \u001b[0mj\u001b[0m\u001b[1;33m)\u001b[0m\u001b[1;33m\u001b[0m\u001b[1;33m\u001b[0m\u001b[0m\n\u001b[0m\u001b[0;32m      8\u001b[0m     \u001b[0merror_max\u001b[0m \u001b[1;33m=\u001b[0m \u001b[0mLA\u001b[0m\u001b[1;33m.\u001b[0m\u001b[0mnorm\u001b[0m\u001b[1;33m(\u001b[0m\u001b[0mA\u001b[0m\u001b[1;33m.\u001b[0m\u001b[0mT\u001b[0m \u001b[1;33m@\u001b[0m \u001b[0mA\u001b[0m \u001b[1;33m-\u001b[0m \u001b[0mB\u001b[0m\u001b[1;33m.\u001b[0m\u001b[0mT\u001b[0m \u001b[1;33m@\u001b[0m\u001b[0mB\u001b[0m\u001b[1;33m)\u001b[0m\u001b[1;33m\u001b[0m\u001b[1;33m\u001b[0m\u001b[0m\n\u001b[0;32m      9\u001b[0m     \u001b[0mprint\u001b[0m\u001b[1;33m(\u001b[0m\u001b[1;34mf\"The max error for an l value of {j} is: {error_max}\"\u001b[0m\u001b[1;33m)\u001b[0m\u001b[1;33m\u001b[0m\u001b[1;33m\u001b[0m\u001b[0m\n",
      "\u001b[1;32m<ipython-input-16-aea32b6a36f7>\u001b[0m in \u001b[0;36mfreq_dir\u001b[1;34m(A, l)\u001b[0m\n\u001b[0;32m     27\u001b[0m         \u001b[1;32mif\u001b[0m \u001b[1;32mnot\u001b[0m \u001b[0mall_zeros\u001b[0m\u001b[1;33m:\u001b[0m\u001b[1;33m\u001b[0m\u001b[1;33m\u001b[0m\u001b[0m\n\u001b[0;32m     28\u001b[0m             \u001b[0mU\u001b[0m\u001b[1;33m,\u001b[0m \u001b[0mS\u001b[0m\u001b[1;33m,\u001b[0m \u001b[0mV\u001b[0m \u001b[1;33m=\u001b[0m \u001b[0mLA\u001b[0m\u001b[1;33m.\u001b[0m\u001b[0msvd\u001b[0m\u001b[1;33m(\u001b[0m\u001b[0mB\u001b[0m\u001b[1;33m,\u001b[0m \u001b[0mfull_matrices\u001b[0m\u001b[1;33m=\u001b[0m\u001b[1;32mFalse\u001b[0m\u001b[1;33m)\u001b[0m\u001b[1;33m\u001b[0m\u001b[1;33m\u001b[0m\u001b[0m\n\u001b[1;32m---> 29\u001b[1;33m             \u001b[1;32mif\u001b[0m \u001b[0mS\u001b[0m\u001b[1;33m[\u001b[0m \u001b[1;36m2\u001b[0m \u001b[1;33m*\u001b[0m \u001b[0ml\u001b[0m \u001b[1;33m-\u001b[0m \u001b[1;36m1\u001b[0m\u001b[1;33m]\u001b[0m \u001b[1;33m!=\u001b[0m \u001b[1;36m0\u001b[0m\u001b[1;33m:\u001b[0m\u001b[1;33m\u001b[0m\u001b[1;33m\u001b[0m\u001b[0m\n\u001b[0m\u001b[0;32m     30\u001b[0m                 \u001b[0mdelta\u001b[0m \u001b[1;33m=\u001b[0m \u001b[0mS\u001b[0m\u001b[1;33m[\u001b[0m\u001b[0ml\u001b[0m \u001b[1;33m-\u001b[0m \u001b[1;36m1\u001b[0m\u001b[1;33m]\u001b[0m\u001b[1;33m**\u001b[0m\u001b[1;36m2\u001b[0m\u001b[1;33m\u001b[0m\u001b[1;33m\u001b[0m\u001b[0m\n\u001b[0;32m     31\u001b[0m                 \u001b[0mS_prime\u001b[0m \u001b[1;33m=\u001b[0m \u001b[1;33m[\u001b[0m\u001b[1;36m0\u001b[0m \u001b[1;32mfor\u001b[0m \u001b[0mj\u001b[0m \u001b[1;32min\u001b[0m \u001b[0mrange\u001b[0m\u001b[1;33m(\u001b[0m\u001b[1;36m2\u001b[0m \u001b[1;33m*\u001b[0m \u001b[0ml\u001b[0m\u001b[1;33m)\u001b[0m\u001b[1;33m]\u001b[0m\u001b[1;33m\u001b[0m\u001b[1;33m\u001b[0m\u001b[0m\n",
      "\u001b[1;31mIndexError\u001b[0m: index 21 is out of bounds for axis 0 with size 20"
     ]
    }
   ],
   "source": [
    "l_values = [1, 2, 3, 4, 5, 6, 7, 8, 9, 10, 11, 12, 13, 14]\n",
    "fro_ten = (LA.norm(A, 'fro')**2) / 10\n",
    "print(f\"The value of the frobenius norm of A^2 / 10 is: {fro_ten}\")\n",
    "print()\n",
    "\n",
    "for j in l_values:\n",
    "    B = freq_dir(A, j)\n",
    "    error_max = LA.norm(A.T @ A - B.T @B)\n",
    "    print(f\"The max error for an l value of {j} is: {error_max}\")\n",
    "\n",
    "# error_max = LA.norm(A.T @ A - B.T @B)\n",
    "# a_fro = LA.norm(A, 'fro') ** 2\n",
    "# print(a_fro)\n",
    "# print((LA.norm(A, 'fro') ** 2) / 10)\n",
    "# print(error_max)"
   ]
  },
  {
   "cell_type": "code",
   "execution_count": null,
   "metadata": {},
   "outputs": [],
   "source": []
  }
 ],
 "metadata": {
  "kernelspec": {
   "display_name": "Python 3",
   "language": "python",
   "name": "python3"
  },
  "language_info": {
   "codemirror_mode": {
    "name": "ipython",
    "version": 3
   },
   "file_extension": ".py",
   "mimetype": "text/x-python",
   "name": "python",
   "nbconvert_exporter": "python",
   "pygments_lexer": "ipython3",
   "version": "3.7.6"
  }
 },
 "nbformat": 4,
 "nbformat_minor": 4
}
