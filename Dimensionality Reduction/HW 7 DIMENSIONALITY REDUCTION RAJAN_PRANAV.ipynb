{
 "cells": [
  {
   "cell_type": "code",
   "execution_count": 1,
   "metadata": {},
   "outputs": [],
   "source": [
    "# import some stuff\n",
    "import numpy as np\n",
    "from scipy import linalg as LA"
   ]
  },
  {
   "cell_type": "code",
   "execution_count": 2,
   "metadata": {},
   "outputs": [
    {
     "name": "stdout",
     "output_type": "stream",
     "text": [
      "The dimensions of A are: (4000, 20)\n"
     ]
    }
   ],
   "source": [
    "# load data\n",
    "A = np.loadtxt('A.csv', delimiter=',')\n",
    "\n",
    "# output the data\n",
    "# print(A)\n",
    "\n",
    "# dimensions of the data\n",
    "A_shape = A.shape\n",
    "print(f\"The dimensions of A are: {A_shape}\")"
   ]
  },
  {
   "cell_type": "code",
   "execution_count": 3,
   "metadata": {},
   "outputs": [],
   "source": [
    "# compute the svd of A\n",
    "U, s, Vt = LA.svd(A, full_matrices=False)\n",
    "U_shape = U.shape\n",
    "s_shape = s.shape\n",
    "Vt_shape = Vt.shape\n",
    "\n",
    "# # output the different components along with their dimensions\n",
    "# print(f\"The U Matrix\")\n",
    "# print(f\"The dimensions of U are {U_shape}\")\n",
    "# print(U)\n",
    "# print()\n",
    "\n",
    "# print(f\"The s matrix (contains all the eigenvalues)\")\n",
    "# print(f\"The dimensions of s are {s_shape}\")\n",
    "# print(s)\n",
    "# print()\n",
    "\n",
    "# print(f\"The V transpose matrix\")\n",
    "# print(f\"The dimensions of V transpose are {Vt_shape}\")\n",
    "# print(Vt)\n",
    "# print()\n"
   ]
  },
  {
   "cell_type": "code",
   "execution_count": 4,
   "metadata": {},
   "outputs": [
    {
     "name": "stdout",
     "output_type": "stream",
     "text": [
      "The norm of the difference between A and Ak when k is 1: 106.8040011674568\n",
      "The norm of the difference between A and Ak when k is 2: 98.93131911624849\n",
      "The norm of the difference between A and Ak when k is 3: 93.82335917328975\n",
      "The norm of the difference between A and Ak when k is 4: 75.57170361248676\n",
      "The norm of the difference between A and Ak when k is 5: 62.986805432603646\n",
      "The norm of the difference between A and Ak when k is 6: 61.56671899951177\n",
      "The norm of the difference between A and Ak when k is 7: 27.679876181132332\n",
      "The norm of the difference between A and Ak when k is 8: 26.445160689201842\n",
      "The norm of the difference between A and Ak when k is 9: 26.26866531890767\n",
      "The norm of the difference between A and Ak when k is 10: 24.602748529508965\n"
     ]
    }
   ],
   "source": [
    "# PART A\n",
    "for k in range(1, 11):\n",
    "#     print(k)\n",
    "    \n",
    "    # get the slice of the svd components up to k\n",
    "    Uk = U[:, :k]\n",
    "    Sk = s[:k]\n",
    "    Vtk = Vt[:k, :]\n",
    "    \n",
    "    # reproduce Ak using the sliced SVD components\n",
    "    Ak = np.dot(Uk * Sk, Vtk)\n",
    "    \n",
    "    # calculate the 2 norm between A and Ak\n",
    "    norm_diff = LA.norm(A-Ak, 2)\n",
    "    print(f\"The norm of the difference between A and Ak when k is {k}: {norm_diff}\")\n",
    "    \n"
   ]
  },
  {
   "cell_type": "code",
   "execution_count": 6,
   "metadata": {},
   "outputs": [
    {
     "name": "stdout",
     "output_type": "stream",
     "text": [
      "The smallest value k so that the L2 norm of A-Ak is less than 10% that of A is: 19\n"
     ]
    }
   ],
   "source": [
    "# PART B\n",
    "for k in range(1, 20):\n",
    "    # get the slice of the svd components up to k\n",
    "    Uk = U[:, :k]\n",
    "    Sk = s[:k]\n",
    "    Vtk = Vt[:k, :]\n",
    "\n",
    "    # reproduce Ak using the sliced SVD components\n",
    "    Ak = np.dot(Uk * Sk, Vtk)\n",
    "    \n",
    "    # 10 % of A Norm\n",
    "    A_norm_10 = 0.1 * LA.norm(A, 2)\n",
    "    \n",
    "    # calculate the 2 norm between A and Ak\n",
    "    norm_diff = LA.norm(A-Ak, 2)\n",
    "        \n",
    "    if A_norm_10 - norm_diff > 0:\n",
    "        print(f\"The smallest value k so that the L2 norm of A-Ak is less than 10% that of A is: {k}\")"
   ]
  },
  {
   "cell_type": "code",
   "execution_count": null,
   "metadata": {},
   "outputs": [],
   "source": []
  }
 ],
 "metadata": {
  "kernelspec": {
   "display_name": "Python 3",
   "language": "python",
   "name": "python3"
  },
  "language_info": {
   "codemirror_mode": {
    "name": "ipython",
    "version": 3
   },
   "file_extension": ".py",
   "mimetype": "text/x-python",
   "name": "python",
   "nbconvert_exporter": "python",
   "pygments_lexer": "ipython3",
   "version": "3.7.6"
  }
 },
 "nbformat": 4,
 "nbformat_minor": 4
}
