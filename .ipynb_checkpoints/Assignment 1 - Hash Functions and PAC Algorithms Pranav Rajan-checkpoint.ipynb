{
 "cells": [
  {
   "cell_type": "code",
   "execution_count": 67,
   "metadata": {},
   "outputs": [],
   "source": [
    "# import stuff here\n",
    "import random\n",
    "import math"
   ]
  },
  {
   "cell_type": "code",
   "execution_count": 156,
   "metadata": {},
   "outputs": [
    {
     "name": "stdout",
     "output_type": "stream",
     "text": [
      "The total number of random trials:  3234\n"
     ]
    }
   ],
   "source": [
    "# 1 Birthday Paradox Part A\n",
    "\n",
    "# Random Number Generator selected: random.uniform()\n",
    "# https://docs.python.org/3/library/random.html\n",
    "\n",
    "# variable for stopping the loop \n",
    "value = None\n",
    "# the domain \n",
    "n = 5000\n",
    "# initialize a value for starting the loop\n",
    "start_value = random.uniform(0, n)\n",
    "# counter k for counting the number of trials\n",
    "k = 0\n",
    "while value != start_value:\n",
    "    value = start_value\n",
    "    start_value = math.floor(random.uniform(0, n))\n",
    "    k += 1\n",
    "    \n",
    "print(\"The total number of random trials: \", k)\n"
   ]
  },
  {
   "cell_type": "code",
   "execution_count": 157,
   "metadata": {},
   "outputs": [
    {
     "name": "stdout",
     "output_type": "stream",
     "text": [
      "The expected number of k trials: 4662.096666666666\n"
     ]
    }
   ],
   "source": [
    "# 1 Birthday Paradox Part B (Still have to do the graphing portion)\n",
    "\n",
    "# number of experiments m\n",
    "m = 300\n",
    "\n",
    "# the domain \n",
    "n = 5000\n",
    "\n",
    "# list for storing the number of trials it took before a collision occured\n",
    "collision_list = []\n",
    "\n",
    "for i in range(0, m):\n",
    "    # value for stopping the loop\n",
    "    value = None\n",
    "    start_value = random.uniform(0, n)\n",
    "    # counter k for counting the number of trials\n",
    "    k = 0\n",
    "    while value != start_value:\n",
    "        value = start_value\n",
    "        start_value = math.floor(random.uniform(0, n))\n",
    "        k += 1\n",
    "    collision_list.append(k)\n",
    "    \n",
    "# print(collision_list)\n",
    "\n",
    "# 1 Birthday Paradox Part C \n",
    "sum = 0\n",
    "for g in range(0, len(collision_list)):\n",
    "    sum += collision_list[g]\n",
    "expected_number_of_k_trials = sum / m \n",
    "\n",
    "print(\"The expected number of k trials:\", expected_number_of_k_trials)\n"
   ]
  },
  {
   "cell_type": "code",
   "execution_count": 158,
   "metadata": {},
   "outputs": [
    {
     "name": "stdout",
     "output_type": "stream",
     "text": [
      "The number of k random trials is: 1729\n"
     ]
    }
   ],
   "source": [
    "# 2 Coupon Collectors Part A\n",
    "\n",
    "# domain size n\n",
    "n = 300\n",
    "\n",
    "# empty list containing zeros based on the size of the elements\n",
    "element_list = [0 for g in range(0, n)]\n",
    "\n",
    "# counter k for the number for random trials\n",
    "k = 0\n",
    "\n",
    "while 0 in element_list:\n",
    "    value = math.floor(random.uniform(0, n))\n",
    "#     print(value)\n",
    "    element_list[value] = element_list[value] + 1\n",
    "    k += 1\n",
    "    \n",
    "print(\"The number of k random trials is:\", k)"
   ]
  },
  {
   "cell_type": "code",
   "execution_count": 164,
   "metadata": {},
   "outputs": [
    {
     "name": "stdout",
     "output_type": "stream",
     "text": [
      "The expected number of k trials is:  1880.8625\n"
     ]
    }
   ],
   "source": [
    "# 2 Coupon Collectors Part B (still have to generate the graphs)\n",
    "\n",
    "# domain size\n",
    "n = 300\n",
    "\n",
    "# number of experiments\n",
    "m = 400\n",
    "\n",
    "# list for storing the number of trials it took to generate all the number\n",
    "generate_numbers_list = []\n",
    "\n",
    "for g in range (0, m):\n",
    "    element_list = [0 for h in range(0, n)]\n",
    "    # counter k for the number of random tirals\n",
    "    k = 0\n",
    "    \n",
    "    while 0 in element_list:\n",
    "        value = math.floor(random.uniform(0, n))\n",
    "        element_list[value] = element_list[value] + 1\n",
    "        k += 1\n",
    "    generate_numbers_list.append(k)\n",
    "    \n",
    "# print(generate_numbers_list)\n",
    "\n",
    "# 2 Coupon Collectors Part C\n",
    "sum = 0\n",
    "for t in range(0, len(generate_numbers_list)):\n",
    "    sum += generate_numbers_list[t]\n",
    "expected_number_of_k_trials = sum / m\n",
    "\n",
    "print(\"The expected number of k trials is: \", expected_number_of_k_trials)\n",
    "    \n",
    "    \n",
    "    \n"
   ]
  },
  {
   "cell_type": "code",
   "execution_count": null,
   "metadata": {},
   "outputs": [],
   "source": [
    "# # Comparing Experiments to Analysis"
   ]
  }
 ],
 "metadata": {
  "kernelspec": {
   "display_name": "Python 3",
   "language": "python",
   "name": "python3"
  },
  "language_info": {
   "codemirror_mode": {
    "name": "ipython",
    "version": 3
   },
   "file_extension": ".py",
   "mimetype": "text/x-python",
   "name": "python",
   "nbconvert_exporter": "python",
   "pygments_lexer": "ipython3",
   "version": "3.7.4"
  }
 },
 "nbformat": 4,
 "nbformat_minor": 2
}
