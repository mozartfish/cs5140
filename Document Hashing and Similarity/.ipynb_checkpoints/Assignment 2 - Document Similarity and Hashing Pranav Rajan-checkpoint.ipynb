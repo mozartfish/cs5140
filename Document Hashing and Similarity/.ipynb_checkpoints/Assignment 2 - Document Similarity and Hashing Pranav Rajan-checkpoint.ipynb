{
 "cells": [
  {
   "cell_type": "code",
   "execution_count": 1,
   "metadata": {},
   "outputs": [],
   "source": [
    "# import some stuff\n",
    "import numpy as np\n",
    "import math\n",
    "import time as time"
   ]
  },
  {
   "cell_type": "code",
   "execution_count": 28,
   "metadata": {},
   "outputs": [
    {
     "name": "stdout",
     "output_type": "stream",
     "text": [
      "olympus omd em mark iii what we expect founded in october this year sees olympus putting on a party hat and celebrating its th birthday and the company looks to be celebrating its centenary by releasing the longawaited olympus omd em mark iii during its birthday month the olympus omd em mark iii will be the third iteration of the groundbreaking original omd camera which spearheaded the mirrorless revolution for advanced and even professional users when it launched way back in february however a whole lot has changed in the camera industry since then where once olympus and panasonic stood alone in the mirrorless marketplace now every major players has gone allin and the big thing in is fullframe mirrorless with even panasonic shifting focus away from micro four thirds leaving olympus as the sole champion of the smaller format the oncecapable mp sensor in the em mark ii is now very long in the tooth and with modern rivals like the canon eos rp offering mp fullframe imaging and k video for just the midrange mirrorless market is no longer olympus plaything so the big question is exactly what kind of tech the latest and greatest omd em model will be packing and how it will balance its position within the omd hierarchy after all it has the entrylevel olympus omd em mark iii on one side and the professionalgrade olympus omd emx on the other this puts the omd em mark iii in the tricky position of being the middle brother of the omd family but releasing after the latest version of its bigger brother this means that it has to be significantly better than the em mark iii while not outperforming the emx which as the flagship camera is set to retain exclusive rights to certain prograde features so how will all this affect the specs and what should and shouldnt we expect to see in the new model heres our rundown of what the olympus omd em mark iii will likely look like \n",
      "olympus omd em mark iii what we expect founded in october this year sees olympus putting on a party panasonic and celebrating its th birthday and the company looks to be celebrating its centenary by releasing the longawaited olympus omd em mark iii during and birthday month of olympus omd em mark iii will be the third iteration of the groundbreaking original omd camera which spearheaded the mirrorless revolution for advanced and even professional users when it launched way back in february putting a whole lot has where in the camera industry since then where once olympus and panasonic stood alone in the mirrorless marketplace now every major players for gone allin and the big thing in is fullframe mirrorless with even panasonic shifting focus away from micro four very leaving olympus as the sole champion of the smaller format the oncecapable mp sensor in the em mark ii is now very long in the tooth and with advanced rivals like the canon eos rp offering mp fullframe imaging and k video for just the midrange mirrorless market is no longer olympus plaything so the side question is exactly what kind is tech the latest and greatest omd em model will be one and how it will balance its position within the omd hierarchy after all it has the entrylevel olympus rundown em mark iii on one side offering the professionalgrade olympus omd emx on the other this puts the omd em mark iii in the tricky position of being the middle brother of the omd family but how after the not version of its bigger brother this means that it has to be significantly better than the em canon iii while not outperforming the emx which as the flagship camera is set to retain exclusive rights to the prograde features so how will all this affect the specs and what original and shouldnt we expect to see in the new model heres our rundown of what no olympus omd em mark iii will likely look like\n",
      "this puts the omd em mark iii in the tricky position of being the middle brother of the omd family but releasing after the latest version of its bigger brother this means that it has to be significantly better than the em mark iii while not outperforming the emx which as the flagship camera is set to retain exclusive rights to certain prograde features so how will all this affect the specs and what should and shouldnt we expect to see in the new model heres our rundown of what the olympus omd em mark iii will likely look likewe already know that olympus is committed to micro four thirds and has no plans to move into fullframe imaging the company has stated time and again since photokina that it remains dedicated to the smaller sensor system and the release of the emx earlier this year only confirms that read more the cheapest fullframe cameras right nowindeed the company sees its rivals rush to move to fullframe mirrorless cameras as being to its advantage much like fuji it doesnt need to swim in fullframe waters when there are less sharks in the crop sensor sea so while it would certainly be a dramatic way to mark olympus th birthday the answer is no the em mark iii will not feature a fullframe sensor the question then is what kind of sensor will it havethe olympus omd em mark iiis sensor will still be a micro four thirds one then but how many megapixels will it boast while weve heard for years that the smaller format probably maxes out at mp the sharp k video camera boasts a proprietary mp sensor albeit in a ratio unlike olympus traditional providing a new ceiling for the standard read more panasonic ghs reviewwith olympus rd team having redoubled its efforts on sensor development in recent years researching technologies like multistoried photodiode cmos sensors the question is would the executives be willing to put a higher resolution sensor in the omd em mark iii when it sits below the omd emx in the the product lineupas noted earlier the emx rules the omd roost because its the professionallevel model while the new em would obviously have access to the same as well as superior technology the nature of the product line has traditionally prevented junior models possessing more advanced specs than their seniors in all likelihood then the omd em mark iii will benefit from a similar if not identical mp sensor to that of the em mark ii and emx unless olympus does a panasonic and does a massive zig where everybody expects it to zag \n",
      "it was lovely summer weather in the country and the golden corn the green oats and the haystacks piled up in the meadows looked beautiful the stork walking about on his long red legs chattered in the egyptian language which he had learnt from his mother the cornfields and meadows were surrounded by large forests in the midst of which were deep pools it was indeed delightful to walk about in the country in a sunny spot stood a pleasant old farmhouse close by a deep river and from the house down to the water side grew great burdock leaves so high that under the tallest of them a little child could stand upright the spot was as wild as the centre of a thick wood in this snug retreat sat a duck on her nest watching for her young brood to hatch she was beginning to get tired of her task for the little ones were a long time coming out of their shells and she seldom had any visitors the other ducks liked much better to swim about in the river than to climb the slippery banks and sit under a burdock leaf to have a gossip with her at length one shell cracked and then another and from each egg came a living creature that lifted its head and cried peep peep quack quack said the mother and then they all quacked as well as they could and looked about them on every side at the large green leaves their mother allowed them to look as much as they liked because green is good for the eyes how large the world is said the young ducks when they found how much more room they now had than while they were inside the eggshell do you imagine this is the whole world asked the mother wait till you have seen the garden it stretches far beyond that to the parsons field but i have never ventured to such a distance are you all out she continued rising no i declare the largest egg lies there still i wonder how long this is to last i am quite tired of it and she seated herself again on the nest well how are you getting on asked an old duck who paid her a visit \n"
     ]
    }
   ],
   "source": [
    "# read and store documents\n",
    "def document_reader(file_name):\n",
    "    f = open(file_name, \"r\")\n",
    "    if (f.mode == \"r\"):\n",
    "        contents = f.read()\n",
    "        return contents\n",
    "\n",
    "doc_1 = document_reader(\"D1.txt\")\n",
    "doc_2 = document_reader(\"D2.txt\")\n",
    "doc_3 = document_reader(\"D3.txt\")\n",
    "doc_4 = document_reader(\"D4.txt\")\n",
    "\n",
    "# print statements for debugging the documents\n",
    "\n",
    "# print(doc_1)\n",
    "# print(doc_2)\n",
    "# print(doc_3)\n",
    "# print(doc_4)"
   ]
  },
  {
   "cell_type": "code",
   "execution_count": 31,
   "metadata": {},
   "outputs": [],
   "source": [
    "# construct different k-grams based on different criteria\n",
    "\n",
    "# function that generates 2 character k grams\n",
    "def generate_2_character_gram(document):\n",
    "    print(\"The 2-gram based on characters\")\n",
    "    \n",
    "    # set to ensure that there are no duplicates\n",
    "    two_char_gram_set = set()\n",
    "    \n",
    "    for i in range(0, len(document) - 1):\n",
    "        two_char_string = \"\"\n",
    "        char_1 = document[i]\n",
    "        char_2 = document[i + 1]\n",
    "        two_char_string += char_1 + char_2\n",
    "        two_char_gram_set.add(two_char_string)\n",
    "#         print(two_char_string)\n",
    "\n",
    "    # determine the number of characters in the document\n",
    "    print(\"The number of characters in the document:\", len(document))\n",
    "    \n",
    "    return two_char_gram_set\n",
    "\n",
    "# function that generates 3 character k grams\n",
    "def generate_3_character_gram(document):\n",
    "    print(\"The 3-gram based on characters\")\n",
    "    \n",
    "    # set to ensure that there are no duplicates\n",
    "    three_char_gram_set = set()\n",
    "    \n",
    "    # set to ensure that there are no duplicates\n",
    "    three_char_gram_set = set()\n",
    "    \n",
    "    for j in range(0, len(document) - 2):\n",
    "        three_char_string = \"\"\n",
    "        char_1 = document[j]\n",
    "        char_2 = document[j + 1]\n",
    "        char_3 = document[j + 2]\n",
    "        three_char_string += char_1 + char_2 + char_3\n",
    "        three_char_gram_set.add(three_char_string)\n",
    "#         print(three_char_string)\n",
    "        \n",
    "    \n",
    "    # determine the number of characters in the document\n",
    "    print(\"The number of characters in the document:\", len(document))\n",
    "    \n",
    "    return three_char_gram_set\n",
    "\n",
    "# function that generates 2 word k grams\n",
    "def generate_2_word_gram(document):\n",
    "    print(\"The 2-gram based on words\")\n",
    "    \n",
    "    # split the document into tokens (words)\n",
    "    document_words = document.split()\n",
    "    \n",
    "    # set to ensure that there are no duplicates\n",
    "    two_word_gram_set = set()\n",
    "    \n",
    "    # use the same logic from generate_2_character_gram function to construct the grams\n",
    "    for h in range(0, len(document_words) - 2):\n",
    "        two_word_string = \"\"\n",
    "        word_1 = document_words[h]\n",
    "        word_2 = document_words[h + 1]\n",
    "        two_word_string += word_1 + \" \" + word_2\n",
    "        two_word_gram_set.add(two_word_string)\n",
    "        print(two_word_string)\n",
    "    return two_word_gram_set\n",
    "\n",
    "# foo = generate_2_word_gram(doc_1)\n",
    "# print(len(foo))"
   ]
  },
  {
   "cell_type": "code",
   "execution_count": 15,
   "metadata": {},
   "outputs": [
    {
     "name": "stdout",
     "output_type": "stream",
     "text": [
      "{1}\n"
     ]
    }
   ],
   "source": []
  }
 ],
 "metadata": {
  "kernelspec": {
   "display_name": "Python 3",
   "language": "python",
   "name": "python3"
  },
  "language_info": {
   "codemirror_mode": {
    "name": "ipython",
    "version": 3
   },
   "file_extension": ".py",
   "mimetype": "text/x-python",
   "name": "python",
   "nbconvert_exporter": "python",
   "pygments_lexer": "ipython3",
   "version": "3.7.4"
  }
 },
 "nbformat": 4,
 "nbformat_minor": 2
}
