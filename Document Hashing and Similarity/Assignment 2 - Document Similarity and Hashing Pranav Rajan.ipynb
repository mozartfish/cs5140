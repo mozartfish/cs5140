{
 "cells": [
  {
   "cell_type": "code",
   "execution_count": 1,
   "metadata": {},
   "outputs": [],
   "source": [
    "# import some stuff\n",
    "import numpy as np\n",
    "import math\n",
    "import time as time"
   ]
  },
  {
   "cell_type": "code",
   "execution_count": 3,
   "metadata": {},
   "outputs": [],
   "source": [
    "# read and store documents\n",
    "def document_reader(file_name):\n",
    "    f = open(file_name, \"r\")\n",
    "    if (f.mode == \"r\"):\n",
    "        contents = f.read()\n",
    "        return contents\n",
    "\n",
    "doc_1 = document_reader(\"D1.txt\")\n",
    "doc_2 = document_reader(\"D2.txt\")\n",
    "doc_3 = document_reader(\"D3.txt\")\n",
    "doc_4 = document_reader(\"D4.txt\")\n",
    "\n",
    "# print statements for debugging the documents\n",
    "\n",
    "# print(doc_1)\n",
    "# print(doc_2)\n",
    "# print(doc_3)\n",
    "# print(doc_4)"
   ]
  },
  {
   "cell_type": "code",
   "execution_count": 17,
   "metadata": {},
   "outputs": [
    {
     "name": "stdout",
     "output_type": "stream",
     "text": [
      "The 2-gram based on characters\n",
      "The number of characters in the document: 1888\n"
     ]
    }
   ],
   "source": [
    "# construct the k grams based on the different categories\n",
    "def generate_2_character_gram(document):\n",
    "    print(\"The 2-gram based on characters\")\n",
    "    \n",
    "    # set to ensure that there are no duplicates\n",
    "    two_char_gram_set = set()\n",
    "    \n",
    "    # determine the number of characters in the document\n",
    "    print(\"The number of characters in the document:\", len(document))\n",
    "    \n",
    "    return\n",
    "\n",
    "def generate_3_character_gram(document):\n",
    "    print(\"The 3-gram based on characters\")\n",
    "    \n",
    "    # set to ensure that there are no duplicates\n",
    "    three_char_gram_set = set()\n",
    "    # determine the number of characters in the document\n",
    "    print(\"The number of characters in the document:\", len(document))\n",
    "    \n",
    "    return\n",
    "\n",
    "def generate_2_word_gram(document):\n",
    "    print(\"The 2-gram based on characters\")\n",
    "    \n",
    "    # set to ensure that there are no duplicates\n",
    "    two_word_gram_set = set()\n",
    "    \n",
    "    # determine the number of characters in the document\n",
    "    print(\"The number of characters in the document:\", len(document))\n",
    "    return\n",
    "\n",
    "generate_2_character_gram(doc_1)"
   ]
  },
  {
   "cell_type": "code",
   "execution_count": 15,
   "metadata": {},
   "outputs": [
    {
     "name": "stdout",
     "output_type": "stream",
     "text": [
      "{1}\n"
     ]
    }
   ],
   "source": [
    "foo = set()\n",
    "foo.add(1)\n",
    "print(foo)"
   ]
  }
 ],
 "metadata": {
  "kernelspec": {
   "display_name": "Python 3",
   "language": "python",
   "name": "python3"
  },
  "language_info": {
   "codemirror_mode": {
    "name": "ipython",
    "version": 3
   },
   "file_extension": ".py",
   "mimetype": "text/x-python",
   "name": "python",
   "nbconvert_exporter": "python",
   "pygments_lexer": "ipython3",
   "version": "3.7.4"
  }
 },
 "nbformat": 4,
 "nbformat_minor": 2
}
