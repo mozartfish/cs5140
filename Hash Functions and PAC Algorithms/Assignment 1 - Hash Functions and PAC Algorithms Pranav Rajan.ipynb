{
 "cells": [
  {
   "cell_type": "code",
   "execution_count": 10,
   "metadata": {},
   "outputs": [],
   "source": [
    "# import stuff here\n",
    "import random\n",
    "import math\n",
    "import numpy as np\n",
    "import matplotlib.pyplot as plt\n",
    "import time as time\n",
    "from collections import Counter"
   ]
  },
  {
   "cell_type": "code",
   "execution_count": 13,
   "metadata": {},
   "outputs": [
    {
     "name": "stdout",
     "output_type": "stream",
     "text": [
      "The total number of random trials: 96\n"
     ]
    }
   ],
   "source": [
    "# 1 Birthday Paradox Part A\n",
    "\n",
    "# Random Number Generator selected: random.uniform()\n",
    "# https://docs.python.org/3/library/random.html\n",
    "\n",
    "# the domain\n",
    "n = 5000\n",
    "# counter k for counting the number of trials\n",
    "k = 0\n",
    "birthday_set = set()\n",
    "value = random.randint(0, n)\n",
    "while value not in birthday_set:\n",
    "    birthday_set.add(value)\n",
    "    k+= 1\n",
    "    value = random.randint(0, n)\n",
    "print(\"The total number of random trials:\", k)\n"
   ]
  },
  {
   "cell_type": "code",
   "execution_count": 14,
   "metadata": {},
   "outputs": [
    {
     "data": {
      "image/png": "[encoded data removed]",
      "text/plain": [
       "<Figure size 432x288 with 1 Axes>"
      ]
     },
     "metadata": {
      "needs_background": "light"
     },
     "output_type": "display_data"
    },
    {
     "name": "stdout",
     "output_type": "stream",
     "text": [
      "The expected number of k trials: 92.06666666666666\n"
     ]
    }
   ],
   "source": [
    "k_value_list = []\n",
    "\n",
    "# number of trials\n",
    "m = 300\n",
    "\n",
    "def generate_birthday_k():\n",
    "    n = 5000\n",
    "    # counter k for counting the number of trials\n",
    "    k = 0\n",
    "    birthday_set = set()\n",
    "    value = random.randint(0, n)\n",
    "    while value not in birthday_set:\n",
    "        birthday_set.add(value)\n",
    "        k += 1\n",
    "        value = random.randint(0, n)\n",
    "    return k\n",
    "\n",
    "for g in range(m):\n",
    "    k_value = generate_birthday_k()\n",
    "    k_value_list.append(k_value)\n",
    "\n",
    "\n",
    "\n",
    "count_map = Counter(k_value_list)\n",
    "\n",
    "# foo = sum(count_map.values())\n",
    "# print(foo)\n",
    "# print(count_map)\n",
    "\n",
    "vals, bin_value = np.histogram(k_value_list, bins = 300)\n",
    "cdf = np.cumsum(vals)\n",
    "cdf = cdf / 300 \n",
    "\n",
    "plt.title(\"CDF Graph for the birthday paradox\")\n",
    "plt.xlabel(\"k number of trials\")\n",
    "plt.ylabel(\"fraction of experiments that succeeded after k trials\")\n",
    "plt.plot(bin_value[:-1], cdf)\n",
    "plt.show()\n",
    "\n",
    "\n",
    "\n",
    "# 1 Birthday Paradox Part C \n",
    "sum = 0\n",
    "for g in range(len(k_value_list)):\n",
    "    sum += k_value_list[g]\n",
    "expected_number_of_k_trials = sum / m \n",
    "print(\"The expected number of k trials:\", expected_number_of_k_trials)"
   ]
  },
  {
   "cell_type": "code",
   "execution_count": 9,
   "metadata": {},
   "outputs": [
    {
     "name": "stdout",
     "output_type": "stream",
     "text": [
      "[300, 1000, 10000, 100000, 1000000]\n",
      "[1000, 5000, 10000]\n",
      "The number of trials m: 1000\n",
      "the domain  300  for  1000  trials\n",
      "time:  0.10432100296020508\n",
      "the domain  1000  for  1000  trials\n",
      "time:  0.16208219528198242\n",
      "the domain  10000  for  1000  trials\n",
      "time:  0.49936556816101074\n",
      "the domain  100000  for  1000  trials\n",
      "time:  1.5288195610046387\n",
      "the domain  1000000  for  1000  trials\n",
      "time:  4.712179183959961\n",
      "The number of trials m: 5000\n",
      "the domain  300  for  5000  trials\n",
      "time:  0.5022075176239014\n",
      "the domain  1000  for  5000  trials\n",
      "time:  0.7660021781921387\n",
      "the domain  10000  for  5000  trials\n",
      "time:  2.5406060218811035\n",
      "the domain  100000  for  5000  trials\n",
      "time:  7.381542682647705\n",
      "the domain  1000000  for  5000  trials\n",
      "time:  22.681614637374878\n",
      "The number of trials m: 10000\n",
      "the domain  300  for  10000  trials\n",
      "time:  0.884484052658081\n",
      "the domain  1000  for  10000  trials\n",
      "time:  1.4623057842254639\n",
      "the domain  10000  for  10000  trials\n",
      "time:  4.962203502655029\n",
      "the domain  100000  for  10000  trials\n",
      "time:  14.663920164108276\n",
      "the domain  1000000  for  10000  trials\n",
      "time:  46.04205083847046\n"
     ]
    }
   ],
   "source": [
    "# time the stuff for birthday paradox\n",
    "birthday_n_list = [300, 1000, 10000, 100000, 1000000]\n",
    "birthday_m_list = [1000, 5000, 10000]\n",
    "\n",
    "\n",
    "def generate_birthday_k(n):\n",
    "    # counter k for counting the number of trials\n",
    "    k = 0\n",
    "    birthday_set = set()\n",
    "    value = random.randint(0, n)\n",
    "    while value not in birthday_set:\n",
    "        birthday_set.add(value)\n",
    "        k += 1\n",
    "        value = random.randint(0, n)\n",
    "    return k\n",
    "\n",
    "def time_birthday_func(m, n):\n",
    "    start_time = time.time()\n",
    "    for a in range(m):\n",
    "        k_value = generate_birthday_k(n)\n",
    "    delta_time = time.time() - start_time\n",
    "    return delta_time\n",
    "\n",
    "print(birthday_n_list)\n",
    "print(birthday_m_list)\n",
    "\n",
    "\n",
    "for m in birthday_m_list:\n",
    "    print(\"The number of trials m:\", m)\n",
    "    for n in birthday_n_list:\n",
    "        time_val = time_birthday_func(m, n)\n",
    "        print(\"the domain \", n, \" for \", m, \" trials\")\n",
    "        print(\"time: \", time_val)\n",
    "\n",
    "\n",
    "\n",
    "# time_val = time_birthday_func(300, 5000)\n",
    "# print(\"the domain \", 300, \" for \", 5000, \" trials\")\n",
    "# print(\"time: \", time_val)\n",
    "        \n",
    "        \n",
    "        \n",
    "        \n",
    "\n",
    "\n"
   ]
  },
  {
   "cell_type": "code",
   "execution_count": 5,
   "metadata": {},
   "outputs": [
    {
     "name": "stdout",
     "output_type": "stream",
     "text": [
      "The number of k random trials is: 1488\n"
     ]
    }
   ],
   "source": [
    "# 2 Coupon Collectors Part A\n",
    "\n",
    "# domain size n\n",
    "n = 300\n",
    "\n",
    "# empty list containing zeros based on the size of the elements\n",
    "coupon_set = set()\n",
    "\n",
    "# counter k for the number for random trials\n",
    "k = 0\n",
    "while len(coupon_set) != n:\n",
    "    value = random.randint(0, n)\n",
    "    coupon_set.add(value)\n",
    "    k += 1\n",
    "    \n",
    "print(\"The number of k random trials is:\", k)\n"
   ]
  },
  {
   "cell_type": "code",
   "execution_count": 6,
   "metadata": {},
   "outputs": [
    {
     "data": {
      "image/png": "[encoded data removed]",
      "text/plain": [
       "<Figure size 432x288 with 1 Axes>"
      ]
     },
     "metadata": {
      "needs_background": "light"
     },
     "output_type": "display_data"
    },
    {
     "name": "stdout",
     "output_type": "stream",
     "text": [
      "The expected number of k trials: 1589.17\n"
     ]
    }
   ],
   "source": [
    "k_value_list = []\n",
    "\n",
    "# number of trials\n",
    "m = 400\n",
    "\n",
    "def generate_coupon_k():\n",
    "    n = 300\n",
    "    # counter k for counting the number of trials\n",
    "    k = 0\n",
    "    coupon_set = set()\n",
    "    value = random.randint(0, n)\n",
    "    while len(coupon_set) != n:\n",
    "        value = random.randint(0, n)\n",
    "        coupon_set.add(value)\n",
    "        k += 1\n",
    "    return k\n",
    "\n",
    "for g in range(m):\n",
    "    k_value = generate_coupon_k()\n",
    "    k_value_list.append(k_value)\n",
    "\n",
    "count_map = Counter(k_value_list)\n",
    "\n",
    "# foo = sum(count_map.values())\n",
    "# print(foo)\n",
    "# print(count_map)\n",
    "\n",
    "vals, bin_value = np.histogram(k_value_list, bins = 400)\n",
    "cdf = np.cumsum(vals)\n",
    "cdf = cdf / 400 \n",
    "\n",
    "plt.title(\"CDF Graph for the collector coupon\")\n",
    "plt.xlabel(\"k number of trials\")\n",
    "plt.ylabel(\"fraction of experiments that succeeded after k trials\")\n",
    "plt.plot(bin_value[:-1], cdf)\n",
    "plt.show()\n",
    "\n",
    "\n",
    "\n",
    "# 1 Birthday Paradox Part C \n",
    "sum = 0\n",
    "for g in range(len(k_value_list)):\n",
    "    sum += k_value_list[g]\n",
    "expected_number_of_k_trials = sum / m \n",
    "print(\"The expected number of k trials:\", expected_number_of_k_trials)"
   ]
  },
  {
   "cell_type": "code",
   "execution_count": 8,
   "metadata": {
    "scrolled": true
   },
   "outputs": [
    {
     "name": "stdout",
     "output_type": "stream",
     "text": [
      "The number of trials m: 400\n",
      "the domain  300  for  400  trials\n",
      "time:  2.479848623275757\n"
     ]
    },
    {
     "ename": "KeyboardInterrupt",
     "evalue": "",
     "output_type": "error",
     "traceback": [
      "\u001b[1;31m---------------------------------------------------------------------------\u001b[0m",
      "\u001b[1;31mKeyboardInterrupt\u001b[0m                         Traceback (most recent call last)",
      "\u001b[1;32m<ipython-input-8-ab56b989eab2>\u001b[0m in \u001b[0;36m<module>\u001b[1;34m\u001b[0m\n\u001b[0;32m     29\u001b[0m     \u001b[0mprint\u001b[0m\u001b[1;33m(\u001b[0m\u001b[1;34m\"The number of trials m:\"\u001b[0m\u001b[1;33m,\u001b[0m \u001b[0mm\u001b[0m\u001b[1;33m)\u001b[0m\u001b[1;33m\u001b[0m\u001b[1;33m\u001b[0m\u001b[0m\n\u001b[0;32m     30\u001b[0m     \u001b[1;32mfor\u001b[0m \u001b[0mn\u001b[0m \u001b[1;32min\u001b[0m \u001b[0mcoupon_n_list\u001b[0m\u001b[1;33m:\u001b[0m\u001b[1;33m\u001b[0m\u001b[1;33m\u001b[0m\u001b[0m\n\u001b[1;32m---> 31\u001b[1;33m         \u001b[0mtime_val\u001b[0m \u001b[1;33m=\u001b[0m \u001b[0mtime_coupon_func\u001b[0m\u001b[1;33m(\u001b[0m\u001b[0mm\u001b[0m\u001b[1;33m,\u001b[0m \u001b[0mn\u001b[0m\u001b[1;33m)\u001b[0m\u001b[1;33m\u001b[0m\u001b[1;33m\u001b[0m\u001b[0m\n\u001b[0m\u001b[0;32m     32\u001b[0m         \u001b[0mprint\u001b[0m\u001b[1;33m(\u001b[0m\u001b[1;34m\"the domain \"\u001b[0m\u001b[1;33m,\u001b[0m \u001b[0mn\u001b[0m\u001b[1;33m,\u001b[0m \u001b[1;34m\" for \"\u001b[0m\u001b[1;33m,\u001b[0m \u001b[0mm\u001b[0m\u001b[1;33m,\u001b[0m \u001b[1;34m\" trials\"\u001b[0m\u001b[1;33m)\u001b[0m\u001b[1;33m\u001b[0m\u001b[1;33m\u001b[0m\u001b[0m\n\u001b[0;32m     33\u001b[0m         \u001b[0mprint\u001b[0m\u001b[1;33m(\u001b[0m\u001b[1;34m\"time: \"\u001b[0m\u001b[1;33m,\u001b[0m \u001b[0mtime_val\u001b[0m\u001b[1;33m)\u001b[0m\u001b[1;33m\u001b[0m\u001b[1;33m\u001b[0m\u001b[0m\n",
      "\u001b[1;32m<ipython-input-8-ab56b989eab2>\u001b[0m in \u001b[0;36mtime_coupon_func\u001b[1;34m(m, n)\u001b[0m\n\u001b[0;32m     18\u001b[0m     \u001b[0mstart_time\u001b[0m \u001b[1;33m=\u001b[0m \u001b[0mtime\u001b[0m\u001b[1;33m.\u001b[0m\u001b[0mtime\u001b[0m\u001b[1;33m(\u001b[0m\u001b[1;33m)\u001b[0m\u001b[1;33m\u001b[0m\u001b[1;33m\u001b[0m\u001b[0m\n\u001b[0;32m     19\u001b[0m     \u001b[1;32mfor\u001b[0m \u001b[0ma\u001b[0m \u001b[1;32min\u001b[0m \u001b[0mrange\u001b[0m\u001b[1;33m(\u001b[0m\u001b[0mm\u001b[0m\u001b[1;33m)\u001b[0m\u001b[1;33m:\u001b[0m\u001b[1;33m\u001b[0m\u001b[1;33m\u001b[0m\u001b[0m\n\u001b[1;32m---> 20\u001b[1;33m         \u001b[0mk_value\u001b[0m \u001b[1;33m=\u001b[0m \u001b[0mgenerate_coupon_k\u001b[0m\u001b[1;33m(\u001b[0m\u001b[0mn\u001b[0m\u001b[1;33m)\u001b[0m\u001b[1;33m\u001b[0m\u001b[1;33m\u001b[0m\u001b[0m\n\u001b[0m\u001b[0;32m     21\u001b[0m     \u001b[0mdelta_time\u001b[0m \u001b[1;33m=\u001b[0m \u001b[0mtime\u001b[0m\u001b[1;33m.\u001b[0m\u001b[0mtime\u001b[0m\u001b[1;33m(\u001b[0m\u001b[1;33m)\u001b[0m \u001b[1;33m-\u001b[0m \u001b[0mstart_time\u001b[0m\u001b[1;33m\u001b[0m\u001b[1;33m\u001b[0m\u001b[0m\n\u001b[0;32m     22\u001b[0m     \u001b[1;32mreturn\u001b[0m \u001b[0mdelta_time\u001b[0m\u001b[1;33m\u001b[0m\u001b[1;33m\u001b[0m\u001b[0m\n",
      "\u001b[1;32m<ipython-input-8-ab56b989eab2>\u001b[0m in \u001b[0;36mgenerate_coupon_k\u001b[1;34m(n)\u001b[0m\n\u001b[0;32m     10\u001b[0m     \u001b[0mvalue\u001b[0m \u001b[1;33m=\u001b[0m \u001b[0mrandom\u001b[0m\u001b[1;33m.\u001b[0m\u001b[0mrandint\u001b[0m\u001b[1;33m(\u001b[0m\u001b[1;36m0\u001b[0m\u001b[1;33m,\u001b[0m \u001b[0mn\u001b[0m\u001b[1;33m)\u001b[0m\u001b[1;33m\u001b[0m\u001b[1;33m\u001b[0m\u001b[0m\n\u001b[0;32m     11\u001b[0m     \u001b[1;32mwhile\u001b[0m \u001b[0mlen\u001b[0m\u001b[1;33m(\u001b[0m\u001b[0mcoupon_set\u001b[0m\u001b[1;33m)\u001b[0m \u001b[1;33m!=\u001b[0m \u001b[0mn\u001b[0m\u001b[1;33m:\u001b[0m\u001b[1;33m\u001b[0m\u001b[1;33m\u001b[0m\u001b[0m\n\u001b[1;32m---> 12\u001b[1;33m         \u001b[0mvalue\u001b[0m \u001b[1;33m=\u001b[0m \u001b[0mrandom\u001b[0m\u001b[1;33m.\u001b[0m\u001b[0mrandint\u001b[0m\u001b[1;33m(\u001b[0m\u001b[1;36m0\u001b[0m\u001b[1;33m,\u001b[0m \u001b[0mn\u001b[0m\u001b[1;33m)\u001b[0m\u001b[1;33m\u001b[0m\u001b[1;33m\u001b[0m\u001b[0m\n\u001b[0m\u001b[0;32m     13\u001b[0m         \u001b[0mcoupon_set\u001b[0m\u001b[1;33m.\u001b[0m\u001b[0madd\u001b[0m\u001b[1;33m(\u001b[0m\u001b[0mvalue\u001b[0m\u001b[1;33m)\u001b[0m\u001b[1;33m\u001b[0m\u001b[1;33m\u001b[0m\u001b[0m\n\u001b[0;32m     14\u001b[0m         \u001b[0mk\u001b[0m \u001b[1;33m+=\u001b[0m \u001b[1;36m1\u001b[0m\u001b[1;33m\u001b[0m\u001b[1;33m\u001b[0m\u001b[0m\n",
      "\u001b[1;31mKeyboardInterrupt\u001b[0m: "
     ]
    }
   ],
   "source": [
    "# timing code for coupon collectors\n",
    "# time the stuff for birthday paradox\n",
    "coupon_n_list = [300, 5000, 10000, 15000, 20000]\n",
    "coupon_m_list = [400, 2500, 5000]\n",
    "\n",
    "def generate_coupon_k(n):\n",
    "    # counter k for counting the number of trials\n",
    "    k = 0\n",
    "    coupon_set = set()\n",
    "    value = random.randint(0, n)\n",
    "    while len(coupon_set) != n:\n",
    "        value = random.randint(0, n)\n",
    "        coupon_set.add(value)\n",
    "        k += 1\n",
    "    return k\n",
    "\n",
    "def time_coupon_func(m, n):\n",
    "    start_time = time.time()\n",
    "    for a in range(m):\n",
    "        k_value = generate_coupon_k(n)\n",
    "    delta_time = time.time() - start_time\n",
    "    return delta_time\n",
    "\n",
    "# print(birthday_n_list)\n",
    "# print(birthday_m_list)\n",
    "\n",
    "\n",
    "for m in coupon_m_list:\n",
    "    print(\"The number of trials m:\", m)\n",
    "    for n in coupon_n_list:\n",
    "        time_val = time_coupon_func(m, n)\n",
    "        print(\"the domain \", n, \" for \", m, \" trials\")\n",
    "        print(\"time: \", time_val)\n",
    "\n",
    "\n",
    "\n",
    "# time_val = time_coupon_func(400, 300)\n",
    "# print(\"the domain \", 4000, \" for \", 300, \" trials\")\n",
    "# print(\"time: \", time_val)\n",
    "        \n"
   ]
  }
 ],
 "metadata": {
  "kernelspec": {
   "display_name": "Python 3",
   "language": "python",
   "name": "python3"
  },
  "language_info": {
   "codemirror_mode": {
    "name": "ipython",
    "version": 3
   },
   "file_extension": ".py",
   "mimetype": "text/x-python",
   "name": "python",
   "nbconvert_exporter": "python",
   "pygments_lexer": "ipython3",
   "version": "3.7.4"
  }
 },
 "nbformat": 4,
 "nbformat_minor": 2
}
