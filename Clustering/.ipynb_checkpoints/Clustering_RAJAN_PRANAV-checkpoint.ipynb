{
 "cells": [
  {
   "cell_type": "code",
   "execution_count": 38,
   "metadata": {},
   "outputs": [],
   "source": [
    "# import some stuff\n",
    "import numpy as np\n",
    "import random\n",
    "import math \n",
    "import sys"
   ]
  },
  {
   "cell_type": "code",
   "execution_count": 59,
   "metadata": {},
   "outputs": [],
   "source": [
    "# load the documents for analysis\n",
    "doc_1 = np.loadtxt('C1.txt')\n",
    "doc_2 = np.loadtxt('C2.txt')\n",
    "doc_3 = np.loadtxt('C3.txt')\n",
    "\n",
    "# check the documents\n",
    "# print(doc_1)\n",
    "#print(doc_2)\n",
    "# print(doc_3)\n",
    "    "
   ]
  },
  {
   "cell_type": "code",
   "execution_count": 64,
   "metadata": {},
   "outputs": [],
   "source": [
    "# Helper Mmethods for hierarchical clustering\n",
    "\n",
    "# SINGLE-LINK METRIC\n",
    "# Function that defines the single link metric\n",
    "# S1 represents a cluster S1, S2 represents a cluster S2\n",
    "def single_link(S1, S2):\n",
    "    # define the min distance to be some really large number \n",
    "    # so we can eventually get to a small number\n",
    "    min_distance = float(9999999999999999)\n",
    "    for i in range(len(S1)):\n",
    "        for j in range(len(S2)):\n",
    "            # get current element of the first cluster\n",
    "            s1_element = S1[i]\n",
    "            s1_element = s1_element[1:]\n",
    "            \n",
    "            # get current element of the second cluster\n",
    "            s2_element = S2[j]\n",
    "            s2_element = s2_element[1:]\n",
    "            \n",
    "            # compute the distance between the two elements\n",
    "            dist = np.linalg.norm(s1_element - s2_element)\n",
    "            \n",
    "            # update the distance\n",
    "            if dist < min_distance:\n",
    "                min_distance = dist\n",
    "    \n",
    "    return min_distance\n",
    "\n",
    "# COMPLETE-LINK METRIC\n",
    "# Function that defines the complete link metric\n",
    "# S1 represents a cluster S1, S2 represents a cluster S2\n",
    "def complete_link(S1, S2):\n",
    "    # define the max distance to be some really small number\n",
    "    # so we can can eventually get to a smaller number\n",
    "    max_distance = float(-9999999999999999)\n",
    "    for h in range(len(S1)):\n",
    "        for k in rnage(len(S2)):\n",
    "            # get current element of the first cluster\n",
    "            s1_element = S1[h]\n",
    "            s1_element = s1_element[1:]\n",
    "            \n",
    "            # get current element of the second cluster\n",
    "            s2_element = S2[k]\n",
    "            s2_element = s2_element[1:]\n",
    "            \n",
    "            # compute the distance between the two elements\n",
    "            dist = np.linalg.norm(s1_element - s2_element)\n",
    "            \n",
    "            # update the distance\n",
    "            if dist > max_distance:\n",
    "                max_distance = dist\n",
    "            \n",
    "    return max_distance\n",
    "\n",
    "\n",
    "# MEAN-LINK METRIC\n",
    "# Function that defines the mean link metric\n",
    "# S1 reprents a cluster S1, S2 represents a cluster S2\n",
    "def mean_link(S1, S2):\n",
    "    # sum up all the points in cluster S1\n",
    "    cluster_s1_sum = np.zeros(2)\n",
    "    for w in range(len(S1)):\n",
    "        s1_element = S1[w]\n",
    "        s1_element = s1_element[1:]\n",
    "        cluster_s1_sum.add(s1_element)\n",
    "    \n",
    "    # sum up all the elements in clusters in cluster cluster S2\n",
    "    cluster_s2_sum = np.zeros(2)\n",
    "    for t in range(len(S2)):\n",
    "        s2_element = S2[t]\n",
    "        s2_element = s2_element[1:]\n",
    "        cluster_s2_sum.add(s2_element)\n",
    "        \n",
    "    # Divide by the length of the clusters\n",
    "    cluster_1_sum = cluster_1_sum / len(S1)\n",
    "    cluster_2_sum = cluster_2_sum / len(S2)\n",
    "    \n",
    "    \n",
    "    # compute the mean distance\n",
    "    mean_distance = np.linalg.norm(cluster_1_sum - cluster_2_sum)\n",
    "    \n",
    "    return mean_distance"
   ]
  },
  {
   "cell_type": "code",
   "execution_count": 58,
   "metadata": {},
   "outputs": [
    {
     "name": "stdout",
     "output_type": "stream",
     "text": [
      "Single-Link\n"
     ]
    }
   ],
   "source": [
    "# Hierarchical Clustering (From Professor Jeff Phillips Data Mining Notes)\n",
    "\n",
    "# Function that performs Hierarchical Clustering with a specific linkage\n",
    "# First argument is the set of points X, Second Argument is the specific linkage\n",
    "def HierarchicalClustering(X, linkage):\n",
    "    if linkage == \"Single-Link\":\n",
    "        print(\"Single-Link\")\n",
    "        \n",
    "    elif linkage == \"Complete-Link\":\n",
    "        print(\"Complete-Link\")\n",
    "    else:\n",
    "        print(\"Mean-Link\")\n",
    "            \n",
    "HierarchicalClustering(doc_1, \"Single-Link\")\n",
    "# HierarchicalClustering(doc_1, \"Complete-Link\")\n",
    "# HierarchicalClustering(doc_1, \"Mean-Link\")\n"
   ]
  },
  {
   "cell_type": "code",
   "execution_count": 47,
   "metadata": {},
   "outputs": [
    {
     "name": "stdout",
     "output_type": "stream",
     "text": [
      "[ 1.         -6.91218524  3.8       ]\n"
     ]
    },
    {
     "ename": "TypeError",
     "evalue": "bad operand type for unary +: 'list'",
     "output_type": "error",
     "traceback": [
      "\u001b[1;31m---------------------------------------------------------------------------\u001b[0m",
      "\u001b[1;31mTypeError\u001b[0m                                 Traceback (most recent call last)",
      "\u001b[1;32m<ipython-input-47-7aeb9b76fdc8>\u001b[0m in \u001b[0;36m<module>\u001b[1;34m\u001b[0m\n\u001b[0;32m      1\u001b[0m \u001b[0mthing\u001b[0m \u001b[1;33m=\u001b[0m \u001b[0mdoc_1\u001b[0m\u001b[1;33m[\u001b[0m\u001b[1;36m0\u001b[0m\u001b[1;33m]\u001b[0m\u001b[1;33m\u001b[0m\u001b[1;33m\u001b[0m\u001b[0m\n\u001b[0;32m      2\u001b[0m \u001b[0mprint\u001b[0m\u001b[1;33m(\u001b[0m\u001b[0mthing\u001b[0m\u001b[1;33m)\u001b[0m\u001b[1;33m\u001b[0m\u001b[1;33m\u001b[0m\u001b[0m\n\u001b[1;32m----> 3\u001b[1;33m \u001b[0mprint\u001b[0m\u001b[1;33m(\u001b[0m\u001b[0mthing\u001b[0m\u001b[1;33m[\u001b[0m\u001b[1;36m1\u001b[0m\u001b[1;33m:\u001b[0m\u001b[1;33m]\u001b[0m \u001b[1;33m-\u001b[0m \u001b[1;33m+\u001b[0m \u001b[1;33m[\u001b[0m\u001b[1;36m10.0\u001b[0m\u001b[1;33m,\u001b[0m \u001b[1;36m0\u001b[0m\u001b[1;33m]\u001b[0m\u001b[1;33m)\u001b[0m\u001b[1;33m\u001b[0m\u001b[1;33m\u001b[0m\u001b[0m\n\u001b[0m",
      "\u001b[1;31mTypeError\u001b[0m: bad operand type for unary +: 'list'"
     ]
    }
   ],
   "source": []
  },
  {
   "cell_type": "code",
   "execution_count": 57,
   "metadata": {},
   "outputs": [
    {
     "name": "stdout",
     "output_type": "stream",
     "text": [
      "<class 'numpy.ndarray'>\n"
     ]
    }
   ],
   "source": [
    "foo = doc_1[0]\n",
    "thing = foo[1:]\n",
    "print(type(thing))"
   ]
  },
  {
   "cell_type": "code",
   "execution_count": null,
   "metadata": {},
   "outputs": [],
   "source": []
  },
  {
   "cell_type": "code",
   "execution_count": 11,
   "metadata": {},
   "outputs": [
    {
     "name": "stdout",
     "output_type": "stream",
     "text": [
      "[[2], [8], [0], [4], [1], [9], [9], [0]]\n"
     ]
    }
   ],
   "source": [
    "# for testing stuff\n",
    "X = [[i] for i in [2, 8, 0, 4, 1, 9, 9, 0]]\n",
    "print(X)"
   ]
  },
  {
   "cell_type": "code",
   "execution_count": null,
   "metadata": {},
   "outputs": [],
   "source": []
  }
 ],
 "metadata": {
  "kernelspec": {
   "display_name": "Python 3",
   "language": "python",
   "name": "python3"
  },
  "language_info": {
   "codemirror_mode": {
    "name": "ipython",
    "version": 3
   },
   "file_extension": ".py",
   "mimetype": "text/x-python",
   "name": "python",
   "nbconvert_exporter": "python",
   "pygments_lexer": "ipython3",
   "version": "3.7.4"
  }
 },
 "nbformat": 4,
 "nbformat_minor": 2
}
