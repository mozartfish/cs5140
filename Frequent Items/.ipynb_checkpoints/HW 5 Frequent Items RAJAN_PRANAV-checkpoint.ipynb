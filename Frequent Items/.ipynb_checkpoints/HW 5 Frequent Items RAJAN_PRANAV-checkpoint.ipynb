{
 "cells": [
  {
   "cell_type": "code",
   "execution_count": 5,
   "metadata": {},
   "outputs": [],
   "source": [
    "# import stuff\n",
    "import numpy as np\n",
    "import random\n",
    "import pandas as pd\n",
    "import math\n",
    "from collections import Counter, defaultdict\n",
    "import copy\n",
    "import hashlib"
   ]
  },
  {
   "cell_type": "code",
   "execution_count": 6,
   "metadata": {},
   "outputs": [],
   "source": [
    "# Processing the data for running the algorithms on them \n",
    "\n",
    "def process_data(stream_data):\n",
    "    characters = []\n",
    "    with open(stream_data, 'r') as data:\n",
    "        new_data = data.readlines()\n",
    "    \n",
    "    for line in new_data:\n",
    "        for c in line:\n",
    "            characters.append(c)\n",
    "    \n",
    "    return characters\n",
    "\n",
    "# foo = process_data('S1.txt')"
   ]
  },
  {
   "cell_type": "code",
   "execution_count": 7,
   "metadata": {},
   "outputs": [],
   "source": [
    "def misa_gries_algorithm(stream_data, k):\n",
    "    character_frequency = Counter()\n",
    "    for character in stream_data:\n",
    "        if character in character_frequency:\n",
    "            character_frequency[character] += 1\n",
    "        elif len(character_frequency) < k - 1:\n",
    "            character_frequency[character] = 1\n",
    "        else:\n",
    "            for key in list(character_frequency.keys()):\n",
    "                character_frequency[key] -= 1\n",
    "                if character_frequency[key] == 0:\n",
    "                    del character_frequency[key]\n",
    "                    \n",
    "    print(\"The Misa Gries Algorithm Character Frequencies\")\n",
    "    print(character_frequency)\n",
    "    print()\n",
    "                    \n",
    "    for key in character_frequency.keys():\n",
    "        frequency = character_frequency[key]\n",
    "        frequency /= len(stream_data)\n",
    "        character_frequency[key] = frequency\n",
    "    return character_frequency"
   ]
  },
  {
   "cell_type": "code",
   "execution_count": 10,
   "metadata": {},
   "outputs": [
    {
     "name": "stdout",
     "output_type": "stream",
     "text": [
      "The length of the value list is: 10\n",
      "The value list: [179772, 299400, 420820, 60179, 599564, 120424, 120464, 959642, 59817, 179918]\n",
      "The length of the value list is: 10\n",
      "The value list: [179691, 120021, 180586, 180152, 119242, 1499130, 480896, 59826, 120368, 60088]\n",
      "The length of the value list is: 10\n",
      "The value list: [120450, 1019250, 540350, 240169, 180209, 779572, 0, 59912, 60088, 0]\n",
      "The length of the value list is: 10\n",
      "The value list: [119991, 180167, 179625, 659673, 959478, 60269, 119829, 60259, 240608, 420101]\n",
      "The length of the value list is: 10\n",
      "The value list: [59425, 179958, 119929, 120253, 959478, 180637, 480850, 119450, 120197, 659823]\n",
      "{0: 59817, 1: 59826, 2: 0, 3: 60259, 4: 59425}\n"
     ]
    }
   ],
   "source": [
    "# Count Min-Sketch\n",
    "def count_min_sketch(stream_data, k, t):\n",
    "    hash_count = dict()\n",
    "    rows, cols = (5, 10) \n",
    "    hash_matrix = [[0 for i in range(cols)] for j in range(rows)]\n",
    "    for c in range(len(stream_data)):\n",
    "        character = stream_data[c]\n",
    "        for h in range(5):\n",
    "            if h == 0:\n",
    "                hash1 = hashlib.sha3_224(character.encode())\n",
    "                index = int(hash1.hexdigest(), 16) % 10\n",
    "                hash_matrix[h][index] += 1\n",
    "            elif h == 1:\n",
    "                hash2 = hashlib.sha3_256(character.encode())\n",
    "                index = int(hash2.hexdigest(), 16) % 10\n",
    "                hash_matrix[h][index] += 1\n",
    "            elif h == 2:\n",
    "                hash3 = hashlib.sha3_384(character.encode())\n",
    "                index = int(hash3.hexdigest(), 16) % 10\n",
    "                hash_matrix[h][index] += 1\n",
    "            elif h == 3:\n",
    "                hash4 = hashlib.sha3_512(character.encode())\n",
    "                index = int(hash4.hexdigest(), 16) % 10\n",
    "                hash_matrix[h][index] += 1\n",
    "            else:\n",
    "                hash5 = hashlib.shake_256(character.encode())\n",
    "                index = int(hash5.hexdigest(1), 16) % 10\n",
    "                hash_matrix[h][index] += 1\n",
    "                \n",
    "    for g in range(rows):\n",
    "        value_list = []\n",
    "        for h in range(cols):\n",
    "            value = hash_matrix[g][h]\n",
    "            value_list.append(value)\n",
    "#         print(f\"The length of the value list is: {len(value_list)}\")\n",
    "#         print(f\"The value list: {value_list}\")\n",
    "        min_value = min(value_list)\n",
    "        hash_count[g] = min_value\n",
    "    \n",
    "    print(\"The original count dictionary\")\n",
    "    print(hash_count)\n",
    "    \n",
    "    for key in hash_count.keys():\n",
    "        value = hash_count[key]\n",
    "        value = value / len(stream_data)\n",
    "        hash_count[key] = value\n",
    "    \n",
    "    return hash_count"
   ]
  },
  {
   "cell_type": "code",
   "execution_count": null,
   "metadata": {},
   "outputs": [],
   "source": [
    "s1_data = process_data('S1.txt')\n",
    "s2_data = process_data('S2.txt')\n",
    "s1_misa_gries = misa_gries_algorithm(s1_data, 10)\n",
    "s2_misa_gries = misa_gries_algorithm(s2_data, 10)\n",
    "s1_count_min_sketch = count_min_sketch(s1_data, 10, 5)\n",
    "s2_count_min_sketch = count_min_sketch(s2_data, 10, 5)\n",
    "\n",
    "\n",
    "print(\"The percentage frequency for s1 for the misa gries algorithm\")\n",
    "print(s1_misa_gries)\n",
    "print()\n",
    "print(\"The percentage frequency for s2\")\n",
    "print(s2_misa_gries)\n",
    "print()\n",
    "print(\"The percentage frequency for s1 for the count min sketch algorithm\")\n",
    "print(s1_count_min_sketch)\n",
    "print()\n",
    "print(\"The percentage frequency for s2 for the count min sketch algortihm\")\n",
    "print(s2_count_min_sketch)\n",
    "print()\n"
   ]
  },
  {
   "cell_type": "code",
   "execution_count": null,
   "metadata": {},
   "outputs": [],
   "source": [
    "with open('dummytext.txt', 'r') as data:\n",
    "    dummy_data = data.readlines()\n",
    "    \n",
    "    \n",
    "character_dict = dict()\n",
    "for line in dummy_data:\n",
    "    for c in line:\n",
    "        print(c)\n",
    "        if c not in character_dict:\n",
    "            character_dict[c] = 1\n",
    "        else:\n",
    "            value = character_dict[c]\n",
    "            value += 1\n",
    "            character_dict[c] = value\n",
    "\n",
    "            \n",
    "keys = list(character_dict.keys())\n",
    "print(keys[0])"
   ]
  },
  {
   "cell_type": "code",
   "execution_count": null,
   "metadata": {},
   "outputs": [],
   "source": [
    "c = Counter()                           # a new, empty counter\n",
    "c = Counter('gallahad')                 # a new counter from an iterable\n",
    "print(c)\n",
    "# c = Counter({'red': 4, 'blue': 2})      # a new counter from a mapping\n",
    "# c = Counter(cats=4, dogs=8)       \n",
    "\n",
    "print(c)"
   ]
  },
  {
   "cell_type": "code",
   "execution_count": null,
   "metadata": {},
   "outputs": [],
   "source": [
    "m = 'A'\n",
    "result = hashlib.sha384(m.encode())\n",
    "thing = int(result.hexdigest(), 16)\n",
    "print(thing % 10)\n"
   ]
  },
  {
   "cell_type": "code",
   "execution_count": null,
   "metadata": {},
   "outputs": [],
   "source": [
    "binary_string = '101'\n",
    "five = int(binary_string, 2)\n",
    "print(five)"
   ]
  },
  {
   "cell_type": "code",
   "execution_count": null,
   "metadata": {},
   "outputs": [],
   "source": [
    "string = 'abcdefghijklmnopqrstuvwxyz'\n",
    "for k in range(len(string)):\n",
    "    char = string[k]\n",
    "    print(f\"The current char is {char}\")\n",
    "    a = hashlib.sha3_256(char.encode())\n",
    "    hasha = int(a.hexdigest(), 16) % 10\n",
    "    b = hashlib.sha3_512(char.encode())\n",
    "    hashb = int(b.hexdigest(), 16) % 10\n",
    "    c = hashlib.blake2b(char.encode())\n",
    "    hashc = int(c.hexdigest(), 16) % 10\n",
    "    d = hashlib.blake2s(char.encode())\n",
    "    hashd = int(d.hexdigest(), 16) % 10\n",
    "    e = hashlib.shake_256(char.encode())\n",
    "    hashe = int(e.hexdigest(1), 16) % 10\n",
    "\n",
    "    print(hasha)\n",
    "    print(hashb)\n",
    "    print(hashc)\n",
    "    print(hashd)\n",
    "    print(hashe)"
   ]
  },
  {
   "cell_type": "code",
   "execution_count": null,
   "metadata": {},
   "outputs": [],
   "source": []
  },
  {
   "cell_type": "code",
   "execution_count": null,
   "metadata": {},
   "outputs": [],
   "source": [
    "s1_data = process_data('S1.txt')\n",
    "foo = count_min_sketch(s1_data, 10)\n",
    "\n",
    "print(foo)"
   ]
  }
 ],
 "metadata": {
  "kernelspec": {
   "display_name": "Python 3",
   "language": "python",
   "name": "python3"
  },
  "language_info": {
   "codemirror_mode": {
    "name": "ipython",
    "version": 3
   },
   "file_extension": ".py",
   "mimetype": "text/x-python",
   "name": "python",
   "nbconvert_exporter": "python",
   "pygments_lexer": "ipython3",
   "version": "3.7.6"
  }
 },
 "nbformat": 4,
 "nbformat_minor": 2
}
