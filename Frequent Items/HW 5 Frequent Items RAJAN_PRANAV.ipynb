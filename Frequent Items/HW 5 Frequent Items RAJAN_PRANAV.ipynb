{
 "cells": [
  {
   "cell_type": "code",
   "execution_count": 1,
   "metadata": {},
   "outputs": [],
   "source": [
    "# import stuff\n",
    "import numpy as np\n",
    "import random\n",
    "import pandas as pd\n",
    "import math\n",
    "from collections import Counter, defaultdict\n",
    "import copy\n",
    "import hashlib"
   ]
  },
  {
   "cell_type": "code",
   "execution_count": 2,
   "metadata": {},
   "outputs": [],
   "source": [
    "# Processing the data for running the algorithms on them \n",
    "\n",
    "def process_data(stream_data):\n",
    "    characters = []\n",
    "    with open(stream_data, 'r') as data:\n",
    "        new_data = data.readlines()\n",
    "    \n",
    "    for line in new_data:\n",
    "        for c in line:\n",
    "            characters.append(c)\n",
    "    \n",
    "    return characters\n",
    "\n",
    "# foo = process_data('S1.txt')"
   ]
  },
  {
   "cell_type": "code",
   "execution_count": 3,
   "metadata": {},
   "outputs": [],
   "source": [
    "def misa_gries_algorithm(stream_data, k):\n",
    "    character_frequency = Counter()\n",
    "    for character in stream_data:\n",
    "        if character in character_frequency:\n",
    "            character_frequency[character] += 1\n",
    "        elif len(character_frequency) < k:\n",
    "            character_frequency[character] = 1\n",
    "        else:\n",
    "            for key in list(character_frequency.keys()):\n",
    "                character_frequency[key] -= 1\n",
    "                if character_frequency[key] == 0:\n",
    "                    del character_frequency[key]\n",
    "    return character_frequency"
   ]
  },
  {
   "cell_type": "code",
   "execution_count": 4,
   "metadata": {},
   "outputs": [],
   "source": [
    "# Count Min-Sketch"
   ]
  },
  {
   "cell_type": "code",
   "execution_count": 5,
   "metadata": {},
   "outputs": [
    {
     "name": "stdout",
     "output_type": "stream",
     "text": [
      "Counter({'a': 757027, 'b': 457025, 'c': 218012, 'k': 1, 's': 1, 'd': 1, 'p': 1, 'v': 1, 't': 1, 'n': 1})\n"
     ]
    }
   ],
   "source": [
    "s1_data = process_data('S1.txt')\n",
    "thing = misa_gries_algorithm(s1_data, 10)\n",
    "\n",
    "print(thing)"
   ]
  },
  {
   "cell_type": "code",
   "execution_count": 6,
   "metadata": {},
   "outputs": [
    {
     "name": "stdout",
     "output_type": "stream",
     "text": [
      "a\n",
      "b\n",
      "c\n",
      "d\n",
      "e\n",
      "f\n",
      "g\n",
      "a\n",
      "b\n",
      "c\n",
      "e\n",
      "r\n",
      "t\n",
      "a\n"
     ]
    }
   ],
   "source": [
    "with open('dummytext.txt', 'r') as data:\n",
    "    dummy_data = data.readlines()\n",
    "    \n",
    "    \n",
    "character_dict = dict()\n",
    "for line in dummy_data:\n",
    "    for c in line:\n",
    "        print(c)\n",
    "        if c not in character_dict:\n",
    "            character_dict[c] = 1\n",
    "        else:\n",
    "            value = character_dict[c]\n",
    "            value += 1\n",
    "            character_dict[c] = value\n",
    "\n",
    "            \n",
    "keys = list(character_dict.keys())\n",
    "print(keys[0])"
   ]
  },
  {
   "cell_type": "code",
   "execution_count": 7,
   "metadata": {},
   "outputs": [
    {
     "name": "stdout",
     "output_type": "stream",
     "text": [
      "Counter({'a': 3, 'l': 2, 'g': 1, 'h': 1, 'd': 1})\n",
      "Counter({'a': 3, 'l': 2, 'g': 1, 'h': 1, 'd': 1})\n"
     ]
    }
   ],
   "source": [
    "c = Counter()                           # a new, empty counter\n",
    "c = Counter('gallahad')                 # a new counter from an iterable\n",
    "print(c)\n",
    "# c = Counter({'red': 4, 'blue': 2})      # a new counter from a mapping\n",
    "# c = Counter(cats=4, dogs=8)       \n",
    "\n",
    "print(c)"
   ]
  },
  {
   "cell_type": "code",
   "execution_count": 8,
   "metadata": {},
   "outputs": [
    {
     "name": "stdout",
     "output_type": "stream",
     "text": [
      "8\n"
     ]
    }
   ],
   "source": [
    "m = 'A'\n",
    "result = hashlib.sha384(m.encode())\n",
    "thing = int(result.hexdigest(), 16)\n",
    "print(thing % 10)\n"
   ]
  },
  {
   "cell_type": "code",
   "execution_count": 9,
   "metadata": {},
   "outputs": [
    {
     "name": "stdout",
     "output_type": "stream",
     "text": [
      "5\n"
     ]
    }
   ],
   "source": [
    "binary_string = '101'\n",
    "five = int(binary_string, 2)\n",
    "print(five)"
   ]
  },
  {
   "cell_type": "code",
   "execution_count": 17,
   "metadata": {},
   "outputs": [
    {
     "name": "stdout",
     "output_type": "stream",
     "text": [
      "The current char is a\n",
      "5\n",
      "4\n",
      "0\n",
      "4\n",
      "4\n",
      "The current char is b\n",
      "5\n",
      "3\n",
      "8\n",
      "8\n",
      "9\n",
      "The current char is c\n",
      "6\n",
      "9\n",
      "0\n",
      "7\n",
      "6\n",
      "The current char is d\n",
      "7\n",
      "2\n",
      "0\n",
      "7\n",
      "1\n",
      "The current char is e\n",
      "3\n",
      "8\n",
      "5\n",
      "1\n",
      "6\n",
      "The current char is f\n",
      "8\n",
      "2\n",
      "6\n",
      "9\n",
      "5\n",
      "The current char is g\n",
      "6\n",
      "8\n",
      "3\n",
      "5\n",
      "6\n",
      "The current char is h\n",
      "9\n",
      "1\n",
      "1\n",
      "8\n",
      "8\n",
      "The current char is i\n",
      "2\n",
      "7\n",
      "2\n",
      "3\n",
      "9\n",
      "The current char is j\n",
      "0\n",
      "0\n",
      "9\n",
      "0\n",
      "3\n",
      "The current char is k\n",
      "4\n",
      "6\n",
      "4\n",
      "4\n",
      "1\n",
      "The current char is l\n",
      "1\n",
      "3\n",
      "9\n",
      "0\n",
      "8\n",
      "The current char is m\n",
      "2\n",
      "6\n",
      "6\n",
      "1\n",
      "3\n",
      "The current char is n\n",
      "0\n",
      "1\n",
      "2\n",
      "5\n",
      "7\n",
      "The current char is o\n",
      "3\n",
      "1\n",
      "1\n",
      "3\n",
      "2\n",
      "The current char is p\n",
      "2\n",
      "8\n",
      "7\n",
      "5\n",
      "1\n",
      "The current char is q\n",
      "6\n",
      "5\n",
      "7\n",
      "3\n",
      "5\n",
      "The current char is r\n",
      "3\n",
      "0\n",
      "2\n",
      "9\n",
      "2\n",
      "The current char is s\n",
      "4\n",
      "2\n",
      "0\n",
      "9\n",
      "0\n",
      "The current char is t\n",
      "8\n",
      "8\n",
      "1\n",
      "5\n",
      "5\n",
      "The current char is u\n",
      "0\n",
      "9\n",
      "4\n",
      "7\n",
      "7\n",
      "The current char is v\n",
      "1\n",
      "4\n",
      "2\n",
      "2\n",
      "4\n",
      "The current char is w\n",
      "8\n",
      "7\n",
      "9\n",
      "3\n",
      "1\n",
      "The current char is x\n",
      "9\n",
      "4\n",
      "8\n",
      "0\n",
      "0\n",
      "The current char is y\n",
      "7\n",
      "3\n",
      "2\n",
      "0\n",
      "2\n",
      "The current char is z\n",
      "2\n",
      "2\n",
      "6\n",
      "5\n",
      "5\n"
     ]
    }
   ],
   "source": [
    "string = 'abcdefghijklmnopqrstuvwxyz'\n",
    "for k in range(len(string)):\n",
    "    char = string[k]\n",
    "    print(f\"The current char is {char}\")\n",
    "    a = hashlib.sha3_256(char.encode())\n",
    "    hasha = int(a.hexdigest(), 16) % 10\n",
    "    b = hashlib.sha3_512(char.encode())\n",
    "    hashb = int(b.hexdigest(), 16) % 10\n",
    "    c = hashlib.blake2b(char.encode())\n",
    "    hashc = int(c.hexdigest(), 16) % 10\n",
    "    d = hashlib.blake2s(char.encode())\n",
    "    hashd = int(d.hexdigest(), 16) % 10\n",
    "    e = hashlib.shake_256(char.encode())\n",
    "    hashe = int(e.hexdigest(1), 16) % 10\n",
    "\n",
    "    print(hasha)\n",
    "    print(hashb)\n",
    "    print(hashc)\n",
    "    print(hashd)\n",
    "    print(hashe)"
   ]
  },
  {
   "cell_type": "code",
   "execution_count": 11,
   "metadata": {},
   "outputs": [],
   "source": [
    "def count_min_sketch(stream_data, k):\n",
    "    char_dict = dict()\n",
    "    # the five hash functions selected are\n",
    "#     1) sha3_256()\n",
    "#     2) sha3_512()\n",
    "#     3) blake2b()\n",
    "#     4) blake2s()\n",
    "#     5) shak3_256()\n",
    "    for c in range(len(stream_data)):\n",
    "        character = stream_data[c]\n",
    "        if character not in char_dict:\n",
    "            hash_list = [0 for i in range(10)]\n",
    "            for j in range(5):\n",
    "                if j == 0:\n",
    "                    hash1 = hashlib.sha3_256(character.encode())\n",
    "                    index = int(hash1.hexdigest(), 16) % 10\n",
    "                    hash_list[index] = 1\n",
    "                elif j == 1:\n",
    "                    hash2 = hashlib.sha3_512(character.encode())\n",
    "                    index = int(hash2.hexdigest(), 16) % 10\n",
    "                    hash_list[index] = 1\n",
    "                elif j == 2:\n",
    "                    hash3 = hashlib.blake2b(character.encode())\n",
    "                    index = int(hash3.hexdigest(), 16) % 10\n",
    "                    hash_list[index] = 1\n",
    "                elif j == 3:\n",
    "                    hash4 = hashlib.blake2s(character.encode())\n",
    "                    index = int(hash4.hexdigest(), 16) % 10\n",
    "                    hash_list[index] = 1\n",
    "                else:\n",
    "                    hash5 = hashlib.shake_256(character.encode())\n",
    "                    index = int(hash5.hexdigest(1), 16) % 10\n",
    "                    hash_list[index] = 10\n",
    "                    \n",
    "            char_dict[character] = hash_list\n",
    "        else:\n",
    "            hash_list = char_dict[character]\n",
    "            for t in range(10):\n",
    "                if hash_list[t] != 0:\n",
    "                    hash_list[t] += 1\n",
    "            char_dict[character] = hash_list\n",
    "    \n",
    "    \n",
    "    print(\"Old character frequency map\")\n",
    "    print(char_dict)\n",
    "    print()\n",
    "    for key in char_dict.keys():\n",
    "        hash_list = char_dict[key]\n",
    "        new_hash_list = []\n",
    "        for value in hash_list:\n",
    "            if value != 0:\n",
    "                new_hash_list.append(value)\n",
    "        char_dict[key] = min(new_hash_list)\n",
    "        \n",
    "    return char_dict\n",
    "\n",
    "\n",
    "\n",
    "\n"
   ]
  },
  {
   "cell_type": "code",
   "execution_count": 12,
   "metadata": {},
   "outputs": [
    {
     "name": "stdout",
     "output_type": "stream",
     "text": [
      "Old character frequency map\n",
      "{'a': [899566, 0, 0, 0, 899575, 899566, 0, 0, 0, 0], 'b': [0, 0, 0, 599564, 0, 599564, 0, 0, 599564, 599573], 'k': [0, 59826, 0, 0, 59817, 0, 59817, 0, 0, 0], 'h': [0, 60088, 0, 0, 0, 0, 0, 0, 60097, 60088], 'i': [0, 0, 60259, 60259, 0, 0, 0, 60259, 0, 60268], 'm': [0, 60012, 60012, 60021, 0, 0, 60012, 0, 0, 0], 'c': [360551, 0, 0, 0, 0, 0, 360560, 360551, 0, 360551], 's': [59434, 0, 59425, 0, 59425, 0, 0, 0, 0, 59425], 't': [0, 59994, 0, 0, 0, 60003, 0, 0, 59994, 0], 'd': [59826, 59835, 59826, 0, 0, 0, 0, 59826, 0, 0], 'u': [59550, 0, 0, 0, 59550, 0, 0, 59559, 0, 59550], 'r': [59750, 0, 59759, 59750, 0, 0, 0, 0, 0, 59750], 'e': [0, 60223, 0, 60223, 0, 60223, 60232, 0, 60223, 0], 'o': [0, 60179, 60188, 60179, 0, 0, 0, 0, 0, 0], 'q': [0, 0, 0, 60269, 0, 60278, 60269, 60269, 0, 0], 'f': [0, 0, 60374, 0, 0, 60383, 60374, 0, 60374, 60374], 'p': [0, 60324, 60315, 0, 0, 60315, 0, 60315, 60315, 0], 'j': [60241, 0, 0, 60250, 0, 0, 0, 0, 0, 60241], 'l': [60109, 60109, 0, 60109, 0, 0, 0, 0, 60118, 60109], 'v': [0, 59912, 59912, 0, 59921, 0, 0, 0, 0, 0], 'n': [59900, 59900, 59900, 0, 0, 59900, 0, 59909, 0, 0], 'g': [0, 0, 0, 60076, 0, 60076, 60085, 0, 60076, 0]}\n",
      "\n",
      "{'a': 899566, 'b': 599564, 'k': 59817, 'h': 60088, 'i': 60259, 'm': 60012, 'c': 360551, 's': 59425, 't': 59994, 'd': 59826, 'u': 59550, 'r': 59750, 'e': 60223, 'o': 60179, 'q': 60269, 'f': 60374, 'p': 60315, 'j': 60241, 'l': 60109, 'v': 59912, 'n': 59900, 'g': 60076}\n"
     ]
    }
   ],
   "source": [
    "s1_data = process_data('S1.txt')\n",
    "foo = count_min_sketch(s1_data, 10)\n",
    "\n",
    "print(foo)"
   ]
  }
 ],
 "metadata": {
  "kernelspec": {
   "display_name": "Python 3",
   "language": "python",
   "name": "python3"
  },
  "language_info": {
   "codemirror_mode": {
    "name": "ipython",
    "version": 3
   },
   "file_extension": ".py",
   "mimetype": "text/x-python",
   "name": "python",
   "nbconvert_exporter": "python",
   "pygments_lexer": "ipython3",
   "version": "3.7.4"
  }
 },
 "nbformat": 4,
 "nbformat_minor": 2
}
