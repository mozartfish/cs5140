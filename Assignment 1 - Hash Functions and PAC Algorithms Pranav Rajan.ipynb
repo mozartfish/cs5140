{
 "cells": [
  {
   "cell_type": "code",
   "execution_count": 67,
   "metadata": {},
   "outputs": [],
   "source": [
    "# import stuff here\n",
    "import random\n",
    "import math"
   ]
  },
  {
   "cell_type": "code",
   "execution_count": 156,
   "metadata": {},
   "outputs": [
    {
     "name": "stdout",
     "output_type": "stream",
     "text": [
      "The total number of random trials:  3234\n"
     ]
    }
   ],
   "source": [
    "# 1 Birthday Paradox Part A\n",
    "\n",
    "# Random Number Generator selected: random.uniform()\n",
    "# https://docs.python.org/3/library/random.html\n",
    "\n",
    "# variable for stopping the loop \n",
    "value = None\n",
    "# the domain \n",
    "n = 5000\n",
    "# initialize a value for starting the loop\n",
    "start_value = random.uniform(0, n)\n",
    "# counter k for counting the number of trials\n",
    "k = 0\n",
    "while value != start_value:\n",
    "    value = start_value\n",
    "    start_value = math.floor(random.uniform(0, n))\n",
    "    k += 1\n",
    "    \n",
    "print(\"The total number of random trials: \", k)\n"
   ]
  },
  {
   "cell_type": "code",
   "execution_count": 157,
   "metadata": {},
   "outputs": [
    {
     "name": "stdout",
     "output_type": "stream",
     "text": [
      "The expected number of k trials: 4662.096666666666\n"
     ]
    }
   ],
   "source": [
    "# 1 Birthday Paradox Part B (Still have to do the graphing portion)\n",
    "\n",
    "# number of experiments m\n",
    "m = 300\n",
    "\n",
    "# the domain \n",
    "n = 5000\n",
    "\n",
    "# list for storing the number of trials it took before a collision occured\n",
    "collision_list = []\n",
    "\n",
    "for i in range(0, m):\n",
    "    # value for stopping the loop\n",
    "    value = None\n",
    "    start_value = random.uniform(0, n)\n",
    "    # counter k for counting the number of trials\n",
    "    k = 0\n",
    "    while value != start_value:\n",
    "        value = start_value\n",
    "        start_value = math.floor(random.uniform(0, n))\n",
    "        k += 1\n",
    "    collision_list.append(k)\n",
    "    \n",
    "# print(collision_list)\n",
    "\n",
    "# 1 Birthday Paradox Part C \n",
    "sum = 0\n",
    "for g in range(0, len(collision_list)):\n",
    "    sum += collision_list[g]\n",
    "expected_number_of_k_trials = sum / m \n",
    "\n",
    "print(\"The expected number of k trials:\", expected_number_of_k_trials)\n"
   ]
  },
  {
   "cell_type": "code",
   "execution_count": 158,
   "metadata": {},
   "outputs": [
    {
     "name": "stdout",
     "output_type": "stream",
     "text": [
      "The number of k random trials is: 1729\n"
     ]
    }
   ],
   "source": [
    "# 2 Coupon Collectors Part A\n",
    "\n",
    "# domain size n\n",
    "n = 300\n",
    "\n",
    "# empty list containing zeros based on the size of the elements\n",
    "element_list = [0 for g in range(0, n)]\n",
    "\n",
    "# counter k for the number for random trials\n",
    "k = 0\n",
    "\n",
    "while 0 in element_list:\n",
    "    value = math.floor(random.uniform(0, n))\n",
    "#     print(value)\n",
    "    element_list[value] = element_list[value] + 1\n",
    "    k += 1\n",
    "    \n",
    "print(\"The number of k random trials is:\", k)"
   ]
  },
  {
   "cell_type": "code",
   "execution_count": 163,
   "metadata": {},
   "outputs": [
    {
     "name": "stdout",
     "output_type": "stream",
     "text": [
      "[1488, 1785, 1568, 1480, 1499, 1904, 1884, 2330, 1867, 1909, 1549, 1656, 2370, 1884, 2361, 1789, 1690, 1327, 1793, 1894, 2235, 1690, 1911, 1864, 1403, 2218, 1845, 2258, 1892, 1372, 1863, 2714, 1616, 1507, 2219, 2364, 1489, 1958, 1676, 1910, 1872, 1640, 2395, 2574, 1999, 2186, 1753, 1785, 1405, 1866, 1446, 1755, 1801, 1979, 1208, 1642, 1699, 1707, 1903, 1311, 1567, 2175, 1745, 1503, 2449, 1953, 1693, 1580, 1817, 2684, 1851, 1424, 1821, 1655, 1849, 1619, 1664, 1955, 1512, 1958, 2416, 2411, 1936, 2483, 1853, 2492, 2366, 1730, 1673, 2095, 1193, 1576, 1633, 2061, 1369, 1459, 1229, 2101, 2103, 2022, 1660, 2346, 1503, 2125, 1529, 1485, 1415, 1742, 2155, 1532, 2047, 1369, 1474, 2221, 2038, 2396, 1917, 2089, 1863, 1584, 1650, 2584, 2276, 1833, 2466, 2072, 1961, 1572, 1656, 1988, 1690, 1699, 2835, 1576, 1739, 2475, 1684, 2118, 1528, 1781, 1993, 1931, 1958, 2000, 1690, 1827, 1960, 2401, 1882, 1228, 2521, 2160, 1875, 1554, 1840, 1672, 1980, 2595, 1418, 1958, 2024, 2010, 1512, 1678, 1609, 1833, 2209, 1671, 1566, 1748, 2417, 2006, 1561, 1673, 1555, 1825, 1739, 1581, 1651, 1583, 1461, 1581, 1685, 1792, 1864, 1489, 2537, 1640, 1783, 2024, 3009, 2009, 2317, 1725, 1877, 2083, 1682, 1594, 1699, 1950, 1583, 2162, 1678, 2079, 2436, 1979, 1675, 1694, 2100, 1568, 2181, 3303, 1695, 1594, 1918, 1507, 1489, 2041, 2288, 1364, 1885, 1830, 1708, 2299, 1763, 1953, 1726, 1881, 2215, 2047, 1940, 1619, 2145, 2206, 3470, 1443, 1465, 1689, 1913, 1380, 1716, 1914, 1846, 1695, 2025, 1796, 1439, 1790, 1828, 1530, 1539, 2052, 1678, 1848, 1927, 2276, 1380, 1640, 2088, 2688, 3089, 1977, 1780, 1824, 1628, 1925, 1470, 1971, 1637, 1615, 1722, 1635, 2483, 2105, 1866, 1517, 1626, 1631, 2400, 1392, 1783, 2332, 1998, 2188, 1809, 2434, 1763, 1834, 1733, 1947, 1762, 1476, 1800, 1475, 1876, 1925, 1340, 1425, 1488, 1490, 1732, 1932, 2432, 1680, 1756, 2379, 1857, 1952, 2693, 1711, 1668, 1469, 1615, 2068, 1726, 3073, 1592, 1611, 1455, 1993, 2090, 2059, 1796, 1688, 1713, 2149, 2174, 1908, 1529, 1291, 2013, 1609, 2659, 1515, 2058, 1499, 1839, 2065, 1903, 1992, 1837, 2285, 1547, 1695, 1321, 2021, 2005, 2409, 1523, 1874, 1617, 1635, 2015, 1867, 2667, 1316, 2033, 1347, 1895, 2529, 1622, 1806, 1510, 2112, 1523, 2700, 1903, 1637, 1847, 2373, 1385, 2012, 1613, 1507, 2329, 1173, 2034, 1533, 1201, 1875, 1575, 1534, 2278, 2964, 1771, 1617, 2070, 2371, 1363, 2064, 1933, 2431, 1823, 1725, 1750, 1581, 1503, 1837, 2171, 1690]\n"
     ]
    }
   ],
   "source": [
    "# 2 Coupon Collectors Part B (still have to generate the graphs)\n",
    "\n",
    "# domain size\n",
    "n = 300\n",
    "\n",
    "# number of experiments\n",
    "m = 400\n",
    "\n",
    "# list for storing the number of trials it took to generate all the number\n",
    "generate_numbers_list = []\n",
    "\n",
    "for g in range (0, m):\n",
    "    element_list = [0 for h in range(0, n)]\n",
    "    # counter k for the number of random tirals\n",
    "    k = 0\n",
    "    \n",
    "    while 0 in element_list:\n",
    "        value = math.floor(random.uniform(0, n))\n",
    "        element_list[value] = element_list[value] + 1\n",
    "        k += 1\n",
    "    generate_numbers_list.append(k)\n",
    "    \n",
    "# print(generate_numbers_list)\n",
    "    \n",
    "    \n"
   ]
  },
  {
   "cell_type": "code",
   "execution_count": null,
   "metadata": {},
   "outputs": [],
   "source": [
    "# # Comparing Experiments to Analysis"
   ]
  }
 ],
 "metadata": {
  "kernelspec": {
   "display_name": "Python 3",
   "language": "python",
   "name": "python3"
  },
  "language_info": {
   "codemirror_mode": {
    "name": "ipython",
    "version": 3
   },
   "file_extension": ".py",
   "mimetype": "text/x-python",
   "name": "python",
   "nbconvert_exporter": "python",
   "pygments_lexer": "ipython3",
   "version": "3.7.4"
  }
 },
 "nbformat": 4,
 "nbformat_minor": 2
}
