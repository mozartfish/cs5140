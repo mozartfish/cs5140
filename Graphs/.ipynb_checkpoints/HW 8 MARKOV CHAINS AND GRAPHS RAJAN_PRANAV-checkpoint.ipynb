{
 "cells": [
  {
   "cell_type": "code",
   "execution_count": 1,
   "metadata": {},
   "outputs": [],
   "source": [
    "# import some stuff\n",
    "from scipy import linalg as LA\n",
    "import numpy as np\n",
    "from numpy.linalg import matrix_power\n",
    "import math\n",
    " "
   ]
  },
  {
   "cell_type": "code",
   "execution_count": 2,
   "metadata": {},
   "outputs": [
    {
     "name": "stdout",
     "output_type": "stream",
     "text": [
      "The dimensions of M are: (10, 10)\n",
      "[[0.6 0.5 0.  0.  0.1 0.  0.  0.  0.  0. ]\n",
      " [0.4 0.3 0.  0.  0.  0.  0.  0.  0.  0. ]\n",
      " [0.  0.2 0.  0.4 0.3 0.  0.  0.  0.  0. ]\n",
      " [0.  0.  0.6 0.4 0.3 0.1 0.  0.  0.  0. ]\n",
      " [0.  0.  0.4 0.  0.  0.4 0.  0.  0.  0. ]\n",
      " [0.  0.  0.  0.2 0.3 0.4 0.  0.  0.1 0. ]\n",
      " [0.  0.  0.  0.  0.  0.1 0.  0.5 0.4 0. ]\n",
      " [0.  0.  0.  0.  0.  0.  0.4 0.  0.  0.5]\n",
      " [0.  0.  0.  0.  0.  0.  0.5 0.  0.1 0.5]\n",
      " [0.  0.  0.  0.  0.  0.  0.1 0.5 0.4 0. ]]\n"
     ]
    }
   ],
   "source": [
    "# load the data \n",
    "M = np.loadtxt('M.csv', delimiter=',')\n",
    "\n",
    "# find the dimensions of M\n",
    "M_dimension = M.shape\n",
    "print(f\"The dimensions of M are: {M_dimension}\")\n",
    "\n",
    "# q0 => The initial state of the markov chain\n",
    "q = np.array([1, 0, 0, 0, 0, 0, 0, 0, 0, 0])\n",
    "\n",
    "# t0 => the initial t value\n",
    "t0 = 100\n",
    "\n",
    "# the final t value\n",
    "t_final = 1024\n",
    "\n",
    "print(M)"
   ]
  },
  {
   "cell_type": "code",
   "execution_count": 3,
   "metadata": {},
   "outputs": [],
   "source": [
    "# Matrix Power Method\n",
    "def MatrixPowerMethod(t_final, M, q_initial):\n",
    "    # compute q* = (M^t) *qinitial\n",
    "    for g in range(t_final):\n",
    "        M_t = matrix_power(M, t_final)\n",
    "        q_star = M_t @ q_initial.T\n",
    "        \n",
    "    return q_star\n"
   ]
  },
  {
   "cell_type": "code",
   "execution_count": 4,
   "metadata": {},
   "outputs": [],
   "source": [
    "# State Propagation Method\n",
    "def StatePropagationMethod(t_final, q_initial, M):\n",
    "    # return the next value\n",
    "    q_next = np.zeros(10)\n",
    "    \n",
    "    for g in range(t_final):\n",
    "        q_next = matrix_power(M, g + 1) @ q_initial.T\n",
    "        \n",
    "    return q_next"
   ]
  },
  {
   "cell_type": "code",
   "execution_count": 5,
   "metadata": {},
   "outputs": [],
   "source": [
    "# # Random Walk Method\n",
    "# def RandomWalkMethod(q_initial, M):\n",
    "#     q_vector = np.zeros(10)\n",
    "#     for i in range(1024):\n",
    "        "
   ]
  },
  {
   "cell_type": "code",
   "execution_count": 6,
   "metadata": {},
   "outputs": [],
   "source": [
    "# Eigen Analysis Method\n",
    "def EigenMethod():\n",
    "    eigen_matrix = LA.eig(M)\n",
    "    manhattan_distance = np.sum(eigen_matrix[0][:])\n",
    "    return eigen_matrix[:][0:1] / manhattan_distance"
   ]
  },
  {
   "cell_type": "code",
   "execution_count": 7,
   "metadata": {},
   "outputs": [
    {
     "name": "stdout",
     "output_type": "stream",
     "text": [
      "The q vector from the Matrix power method is: [0.07528269 0.04301868 0.09894297 0.16132006 0.08603736 0.11615044\n",
      " 0.1050885  0.09402655 0.11615044 0.1039823 ]\n",
      "\n",
      "The q vector from the state propagation method is: [0.07528269 0.04301868 0.09894297 0.16132006 0.08603736 0.11615044\n",
      " 0.1050885  0.09402655 0.11615044 0.1039823 ]\n",
      "\n",
      "The result of the eigen method is: [[ 0.55555556+0.j          0.53376773+0.j          0.49508   +0.j\n",
      "  -0.48304354+0.j         -0.2768385 +0.j          0.22153659+0.j\n",
      "  -0.02393434+0.03771443j -0.02393434-0.03771443j -0.02670823+0.j\n",
      "   0.02851906+0.j        ]]\n",
      "\n"
     ]
    }
   ],
   "source": [
    "# Question 1A\n",
    "# compute some stuff\n",
    "\n",
    "matrix_pow = MatrixPowerMethod(1024, M, q)\n",
    "state_prop = StatePropagationMethod(1024, q, M)\n",
    "eigen_method = EigenMethod()\n",
    "\n",
    "print(f\"The q vector from the Matrix power method is: {matrix_pow}\")\n",
    "print()\n",
    "print(f\"The q vector from the state propagation method is: {state_prop}\")\n",
    "print()\n",
    "print(f\"The result of the eigen method is: {eigen_method}\")\n",
    "print()"
   ]
  },
  {
   "cell_type": "code",
   "execution_count": 8,
   "metadata": {},
   "outputs": [],
   "source": [
    "# Question 1 B\n",
    "\n",
    "# State Propagation Method\n",
    "def StatePropagationMethod(t_final, q_initial, M):\n",
    "    # return the next value\n",
    "    q_next = np.zeros(10)\n",
    "    \n",
    "    for g in range(t_final):\n",
    "        q_next = matrix_power(M, g + 1) @ q_initial.T\n",
    "        print(f\"The current value of q next is: {q_next}\")\n",
    "        print()\n",
    "        \n",
    "    return q_next\n",
    "\n",
    "# Matrix Power Method\n",
    "def MatrixPowerMethod(t_final, M, q_initial):\n",
    "    # compute q* = (M^t) *qinitial\n",
    "    for g in range(t_final):\n",
    "        M_t = matrix_power(M, t_final)\n",
    "        q_star = M_t @ q_initial.T\n",
    "        print(f\"The current value of q star is {q_star}\")\n",
    "        print()\n",
    "    return q_star\n",
    "\n",
    "q = np.array([0.1, 0.1, 0.1, 0.1, 0.1, 0.1, 0.1, 0.1, 0.1, 0.1])\n",
    "\n",
    "# StatePropagationMethod(300, q, M)\n",
    "\n",
    "# MatrixPowerMethod(300, M, q)\n"
   ]
  },
  {
   "cell_type": "code",
   "execution_count": null,
   "metadata": {},
   "outputs": [],
   "source": []
  }
 ],
 "metadata": {
  "kernelspec": {
   "display_name": "Python 3",
   "language": "python",
   "name": "python3"
  },
  "language_info": {
   "codemirror_mode": {
    "name": "ipython",
    "version": 3
   },
   "file_extension": ".py",
   "mimetype": "text/x-python",
   "name": "python",
   "nbconvert_exporter": "python",
   "pygments_lexer": "ipython3",
   "version": "3.7.6"
  }
 },
 "nbformat": 4,
 "nbformat_minor": 4
}
