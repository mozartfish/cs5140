{
 "cells": [
  {
   "cell_type": "code",
   "execution_count": 1,
   "metadata": {},
   "outputs": [],
   "source": [
    "# import some stuff\n",
    "from scipy import linalg as LA\n",
    "import numpy as np\n",
    "from numpy.linalg import matrix_power\n",
    "import math\n",
    " "
   ]
  },
  {
   "cell_type": "code",
   "execution_count": 2,
   "metadata": {},
   "outputs": [
    {
     "name": "stdout",
     "output_type": "stream",
     "text": [
      "The dimensions of M are: (10, 10)\n",
      "[[0.6 0.5 0.  0.  0.1 0.  0.  0.  0.  0. ]\n",
      " [0.4 0.3 0.  0.  0.  0.  0.  0.  0.  0. ]\n",
      " [0.  0.2 0.  0.4 0.3 0.  0.  0.  0.  0. ]\n",
      " [0.  0.  0.6 0.4 0.3 0.1 0.  0.  0.  0. ]\n",
      " [0.  0.  0.4 0.  0.  0.4 0.  0.  0.  0. ]\n",
      " [0.  0.  0.  0.2 0.3 0.4 0.  0.  0.1 0. ]\n",
      " [0.  0.  0.  0.  0.  0.1 0.  0.5 0.4 0. ]\n",
      " [0.  0.  0.  0.  0.  0.  0.4 0.  0.  0.5]\n",
      " [0.  0.  0.  0.  0.  0.  0.5 0.  0.1 0.5]\n",
      " [0.  0.  0.  0.  0.  0.  0.1 0.5 0.4 0. ]]\n"
     ]
    }
   ],
   "source": [
    "# load the data \n",
    "M = np.loadtxt('M.csv', delimiter=',')\n",
    "\n",
    "# find the dimensions of M\n",
    "M_dimension = M.shape\n",
    "print(f\"The dimensions of M are: {M_dimension}\")\n",
    "\n",
    "# q0 => The initial state of the markov chain\n",
    "q = np.array([1, 0, 0, 0, 0, 0, 0, 0, 0, 0])\n",
    "\n",
    "print(M)"
   ]
  },
  {
   "cell_type": "code",
   "execution_count": 3,
   "metadata": {},
   "outputs": [],
   "source": [
    "# Matrix Power Method\n",
    "def MatrixPowerMethod(q_initial, M):\n",
    "    # compute q* = (M^t) *qinitial\n",
    "    \n",
    "    # run for 1024 trials\n",
    "    for g in range(1024):\n",
    "        M_t = matrix_power(M, g)\n",
    "        q_star = M_t @ q_initial.T\n",
    "        \n",
    "    return q_star\n"
   ]
  },
  {
   "cell_type": "code",
   "execution_count": 4,
   "metadata": {},
   "outputs": [],
   "source": [
    "# State Propagation Method\n",
    "def StatePropagationMethod(q_initial, M):\n",
    "    # return the next value\n",
    "    q_next = np.zeros(10)\n",
    "    \n",
    "    # run for 1024 trials\n",
    "    for g in range(1024):\n",
    "        q_next = matrix_power(M, g + 1) @ q_initial.T\n",
    "        \n",
    "    return q_next"
   ]
  },
  {
   "cell_type": "code",
   "execution_count": 5,
   "metadata": {},
   "outputs": [],
   "source": [
    "# Random Walk Method\n",
    "def RandomWalkMethod(M):\n",
    "    # get the first column of M\n",
    "#     initial_col = M[:, 0]\n",
    "    initial_position = 0\n",
    "\n",
    "    # list for keeping track of stuff\n",
    "    v = np.zeros(10)\n",
    "\n",
    "    # warm up some stuff\n",
    "    position = initial_position\n",
    "    for t in range(100):\n",
    "        col = M[:, position]\n",
    "        random_position_index = np.random.choice(10, 1, p=col)\n",
    "        position = random_position_index[0]\n",
    "    \n",
    "    # now run for 1024 trials\n",
    "    for t in range(1024):\n",
    "        col = M[:, position]\n",
    "        random_position_index = np.random.choice(10, 1, p=col)\n",
    "        position = random_position_index[0]\n",
    "        v[position] += 1\n",
    "    \n",
    "    # normalize the vector\n",
    "    manhattan_distance = np.sum(v)\n",
    "    v = v / manhattan_distance\n",
    "    \n",
    "    return v"
   ]
  },
  {
   "cell_type": "code",
   "execution_count": 6,
   "metadata": {},
   "outputs": [],
   "source": [
    "# Eigen Analysis Method\n",
    "def EigenMethod():\n",
    "    w, v = LA.eig(M)\n",
    "    eigen_vector = v[:, 0]\n",
    "    manhattan_distance = np.sum(eigen_vector)\n",
    "    return eigen_vector / manhattan_distance"
   ]
  },
  {
   "cell_type": "code",
   "execution_count": 7,
   "metadata": {},
   "outputs": [
    {
     "name": "stdout",
     "output_type": "stream",
     "text": [
      "The q vector from the matrix power method is: [0.07528269 0.04301868 0.09894297 0.16132006 0.08603736 0.11615044\n",
      " 0.1050885  0.09402655 0.11615044 0.1039823 ]\n",
      "\n",
      "The q vector from the state propagation method is: [0.07528269 0.04301868 0.09894297 0.16132006 0.08603736 0.11615044\n",
      " 0.1050885  0.09402655 0.11615044 0.1039823 ]\n",
      "\n",
      "The q vector from the random walk method is: [0.10644531 0.05859375 0.15039062 0.2265625  0.11035156 0.11230469\n",
      " 0.05761719 0.04394531 0.07324219 0.06054688]\n",
      "\n",
      "The q vector from the eigen analysis method is: [0.07528269+0.j 0.04301868+0.j 0.09894297+0.j 0.16132006+0.j\n",
      " 0.08603736+0.j 0.11615044+0.j 0.1050885 +0.j 0.09402655+0.j\n",
      " 0.11615044+0.j 0.1039823 +0.j]\n",
      "\n"
     ]
    }
   ],
   "source": [
    "# Question 1A\n",
    "# compute some stuff\n",
    "\n",
    "matrix_pow = MatrixPowerMethod(q, M)\n",
    "state_prop = StatePropagationMethod(q, M)\n",
    "random_walk = RandomWalkMethod(M)\n",
    "eigen_method = EigenMethod()\n",
    "\n",
    "print(f\"The q vector from the matrix power method is: {matrix_pow}\")\n",
    "print()\n",
    "print(f\"The q vector from the state propagation method is: {state_prop}\")\n",
    "print()\n",
    "print(f\"The q vector from the random walk method is: {random_walk}\")\n",
    "print()\n",
    "print(f\"The q vector from the eigen analysis method is: {eigen_method}\")\n",
    "print()\n"
   ]
  },
  {
   "cell_type": "code",
   "execution_count": 9,
   "metadata": {},
   "outputs": [
    {
     "name": "stdout",
     "output_type": "stream",
     "text": [
      "The original state is: [0.07528269+0.j 0.04301868+0.j 0.09894297+0.j 0.16132006+0.j\n",
      " 0.08603736+0.j 0.11615044+0.j 0.1050885 +0.j 0.09402655+0.j\n",
      " 0.11615044+0.j 0.1039823 +0.j]\n",
      "\n",
      "The result of the state propagation method is: [0.07528269 0.04301868 0.09894297 0.16132006 0.08603736 0.11615044\n",
      " 0.1050885  0.09402655 0.11615044 0.1039823 ]\n",
      "\n",
      "The result of the matrix power method is: [0.07528269 0.04301868 0.09894297 0.16132006 0.08603736 0.11615044\n",
      " 0.1050885  0.09402655 0.11615044 0.1039823 ]\n",
      "\n"
     ]
    }
   ],
   "source": [
    "# Question 1 B\n",
    "\n",
    "# State Propagation Method\n",
    "def StatePropagationMethod(t_final, q_initial, M):\n",
    "    q_next = np.zeros(10)\n",
    "    for g in range(t_final):\n",
    "        q_next = matrix_power(M, g + 1) @ q_initial.T\n",
    "    return q_next\n",
    "\n",
    "# Matrix Power Method\n",
    "def MatrixPowerMethod(t_final, M, q_initial):\n",
    "    for g in range(t_final):\n",
    "        M_t = matrix_power(M, g)\n",
    "        q_star = M_t @ q_initial.T\n",
    "    return q_star\n",
    "\n",
    "q = np.array([0.1, 0.1, 0.1, 0.1, 0.1, 0.1, 0.1, 0.1, 0.1, 0.1])\n",
    "\n",
    "state_prop = StatePropagationMethod(730, q, M)\n",
    "\n",
    "\n",
    "matrix_pow = MatrixPowerMethod(730, M, q)\n",
    "\n",
    "print(f\"The original state is: {eigen_method}\")\n",
    "print()\n",
    "print(f\"The result of the state propagation method is: {state_prop}\")\n",
    "print()\n",
    "print(f\"The result of the matrix power method is: {matrix_pow}\")\n",
    "print()\n"
   ]
  },
  {
   "cell_type": "code",
   "execution_count": null,
   "metadata": {},
   "outputs": [],
   "source": []
  }
 ],
 "metadata": {
  "kernelspec": {
   "display_name": "Python 3",
   "language": "python",
   "name": "python3"
  },
  "language_info": {
   "codemirror_mode": {
    "name": "ipython",
    "version": 3
   },
   "file_extension": ".py",
   "mimetype": "text/x-python",
   "name": "python",
   "nbconvert_exporter": "python",
   "pygments_lexer": "ipython3",
   "version": "3.7.6"
  }
 },
 "nbformat": 4,
 "nbformat_minor": 4
}
